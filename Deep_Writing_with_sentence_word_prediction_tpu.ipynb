{
  "nbformat": 4,
  "nbformat_minor": 0,
  "metadata": {
    "colab": {
      "name": "Copy of Deep_Writing_with_sentence_word_prediction_tpu.ipynb",
      "provenance": [],
      "collapsed_sections": [],
      "include_colab_link": true
    },
    "kernelspec": {
      "name": "python3",
      "display_name": "Python 3"
    },
    "accelerator": "TPU"
  },
  "cells": [
    {
      "cell_type": "markdown",
      "metadata": {
        "id": "view-in-github",
        "colab_type": "text"
      },
      "source": [
        "<a href=\"https://colab.research.google.com/github/kumarneeraj2005/2048-Deep-Learning/blob/master/Deep_Writing_with_sentence_word_prediction_tpu.ipynb\" target=\"_parent\"><img src=\"https://colab.research.google.com/assets/colab-badge.svg\" alt=\"Open In Colab\"/></a>"
      ]
    },
    {
      "cell_type": "code",
      "metadata": {
        "id": "vUb856aHtNq_",
        "colab_type": "code",
        "outputId": "475dd9e8-ad30-4a37-e35c-9853c0d132cd",
        "colab": {
          "base_uri": "https://localhost:8080/",
          "height": 270
        }
      },
      "source": [
        "import pandas as pd\n",
        "import numpy as np\n",
        "import matplotlib.pyplot as plt\n",
        "\n",
        "import regex as re\n",
        "\n",
        "import nltk\n",
        "from nltk.draw.dispersion import dispersion_plot\n",
        "from nltk.corpus import stopwords\n",
        "nltk.download('stopwords')\n",
        "from nltk.probability import FreqDist\n",
        "from textblob import TextBlob\n",
        "from nltk.stem import WordNetLemmatizer\n",
        "nltk.download('wordnet')\n",
        "from nltk.corpus.reader.plaintext import PlaintextCorpusReader\n",
        "nltk.download('averaged_perceptron_tagger')\n",
        "from nltk.util import ngrams\n",
        "from nltk.sentiment import SentimentIntensityAnalyzer\n",
        "nltk.download('vader_lexicon')\n",
        "\n",
        "from sklearn.preprocessing import StandardScaler\n",
        "from sklearn.preprocessing import LabelBinarizer\n",
        "\n",
        "import tensorflow as tf\n",
        "import keras\n",
        "from keras.models import Sequential\n",
        "from keras.layers import Dense\n",
        "from keras.layers import Dropout\n",
        "from keras.layers import LSTM\n",
        "from keras.utils import np_utils\n",
        "from keras.callbacks import EarlyStopping\n",
        "\n",
        "from keras.preprocessing.text import Tokenizer\n",
        "from keras.utils.np_utils import to_categorical\n",
        "\n",
        "import tensorflow as tf\n",
        "import keras\n",
        "from keras.models import Sequential\n",
        "from keras.layers import Dense, Dropout, LSTM, Embedding\n",
        "\n",
        "from keras.preprocessing.text import Tokenizer\n",
        "from keras.utils.np_utils import to_categorical\n",
        "\n",
        "import urllib\n",
        "\n",
        "import os\n",
        "\n",
        "# Any results you write to the current directory are saved as output.\n",
        "# from google.colab import drive\n",
        "# drive.mount('/content/gdrive')"
      ],
      "execution_count": 1,
      "outputs": [
        {
          "output_type": "stream",
          "text": [
            "[nltk_data] Downloading package stopwords to /root/nltk_data...\n",
            "[nltk_data]   Unzipping corpora/stopwords.zip.\n",
            "[nltk_data] Downloading package wordnet to /root/nltk_data...\n",
            "[nltk_data]   Unzipping corpora/wordnet.zip.\n",
            "[nltk_data] Downloading package averaged_perceptron_tagger to\n",
            "[nltk_data]     /root/nltk_data...\n",
            "[nltk_data]   Unzipping taggers/averaged_perceptron_tagger.zip.\n"
          ],
          "name": "stdout"
        },
        {
          "output_type": "stream",
          "text": [
            "/usr/local/lib/python3.6/dist-packages/nltk/twitter/__init__.py:20: UserWarning: The twython library has not been installed. Some functionality from the twitter package will not be available.\n",
            "  warnings.warn(\"The twython library has not been installed. \"\n"
          ],
          "name": "stderr"
        },
        {
          "output_type": "stream",
          "text": [
            "[nltk_data] Downloading package vader_lexicon to /root/nltk_data...\n"
          ],
          "name": "stdout"
        },
        {
          "output_type": "display_data",
          "data": {
            "text/html": [
              "<p style=\"color: red;\">\n",
              "The default version of TensorFlow in Colab will soon switch to TensorFlow 2.x.<br>\n",
              "We recommend you <a href=\"https://www.tensorflow.org/guide/migrate\" target=\"_blank\">upgrade</a> now \n",
              "or ensure your notebook will continue to use TensorFlow 1.x via the <code>%tensorflow_version 1.x</code> magic:\n",
              "<a href=\"https://colab.research.google.com/notebooks/tensorflow_version.ipynb\" target=\"_blank\">more info</a>.</p>\n"
            ],
            "text/plain": [
              "<IPython.core.display.HTML object>"
            ]
          },
          "metadata": {
            "tags": []
          }
        },
        {
          "output_type": "stream",
          "text": [
            "Using TensorFlow backend.\n"
          ],
          "name": "stderr"
        }
      ]
    },
    {
      "cell_type": "code",
      "metadata": {
        "id": "f3MnaG43tZeA",
        "colab_type": "code",
        "outputId": "dfb5e2a8-dfc5-4743-ef86-e4122f288a1b",
        "colab": {
          "base_uri": "https://localhost:8080/",
          "height": 34
        }
      },
      "source": [
        "text = urllib.request.urlopen('http://www.textfiles.com/stories/3gables.txt').read().decode('utf8')\n",
        "text = text.replace('\\n', ' ').replace('\\r', '').replace(\"\\'\", \"\").replace('\\w+', '')[348:500]\n",
        "text[0:1000]"
      ],
      "execution_count": 2,
      "outputs": [
        {
          "output_type": "execute_result",
          "data": {
            "text/plain": [
              "'   I dont think that any of my adventures with Mr. Sherlock Holmes opened quite so abruptly, or so dramatically, as that which I associate with The Thre'"
            ]
          },
          "metadata": {
            "tags": []
          },
          "execution_count": 2
        }
      ]
    },
    {
      "cell_type": "code",
      "metadata": {
        "id": "mS16E8LAtfBA",
        "colab_type": "code",
        "colab": {}
      },
      "source": [
        "# I will first convert all the words to numbers, then normalize them, then make a dataframe with two columns, \n",
        "# one with sentences(one word, then two words, and so on), the other with the exact next word"
      ],
      "execution_count": 0,
      "outputs": []
    },
    {
      "cell_type": "code",
      "metadata": {
        "id": "JnHkDWF6uB-7",
        "colab_type": "code",
        "colab": {}
      },
      "source": [
        "# integer encode text\n",
        "tokenizer = Tokenizer()\n",
        "tokenizer.fit_on_texts([text])\n",
        "encoded = tokenizer.texts_to_sequences([text])[0]"
      ],
      "execution_count": 0,
      "outputs": []
    },
    {
      "cell_type": "code",
      "metadata": {
        "id": "ntGz5c9lukSF",
        "colab_type": "code",
        "outputId": "b6783160-167f-4fbc-e833-7c3c93e16db1",
        "colab": {
          "base_uri": "https://localhost:8080/",
          "height": 34
        }
      },
      "source": [
        "# determine the vocabulary size\n",
        "vocab_size = len(tokenizer.word_index) + 1\n",
        "print('Vocabulary Size: %d' % vocab_size)"
      ],
      "execution_count": 0,
      "outputs": [
        {
          "output_type": "stream",
          "text": [
            "Vocabulary Size: 24\n"
          ],
          "name": "stdout"
        }
      ]
    },
    {
      "cell_type": "code",
      "metadata": {
        "id": "olhiAHoo5Q26",
        "colab_type": "code",
        "colab": {}
      },
      "source": [
        "# x = pd.DataFrame(pd.Series([encoded[:i] for i in range(len(encoded))]))\n",
        "# x['label'] = pd.DataFrame([i for i in encoded])\n",
        "# x.head()"
      ],
      "execution_count": 0,
      "outputs": []
    },
    {
      "cell_type": "code",
      "metadata": {
        "id": "Aa77eQj05bpI",
        "colab_type": "code",
        "outputId": "dba4bf2e-2cb2-4680-e72b-15c19fa8d470",
        "colab": {
          "base_uri": "https://localhost:8080/",
          "height": 34
        }
      },
      "source": [
        "listy = []\n",
        "\n",
        "for i in range(len(encoded)):\n",
        "  listy.append(encoded[:i])\n",
        "  \n",
        "len(listy)"
      ],
      "execution_count": 0,
      "outputs": [
        {
          "output_type": "execute_result",
          "data": {
            "text/plain": [
              "27"
            ]
          },
          "metadata": {
            "tags": []
          },
          "execution_count": 7
        }
      ]
    },
    {
      "cell_type": "code",
      "metadata": {
        "id": "gO15yM1vdofW",
        "colab_type": "code",
        "outputId": "dd10aca0-5eb4-4f90-c77a-53fd11cac0f7",
        "colab": {
          "base_uri": "https://localhost:8080/",
          "height": 170
        }
      },
      "source": [
        "listy[1:10]"
      ],
      "execution_count": 0,
      "outputs": [
        {
          "output_type": "execute_result",
          "data": {
            "text/plain": [
              "[[1],\n",
              " [1, 5],\n",
              " [1, 5, 6],\n",
              " [1, 5, 6, 2],\n",
              " [1, 5, 6, 2, 7],\n",
              " [1, 5, 6, 2, 7, 8],\n",
              " [1, 5, 6, 2, 7, 8, 9],\n",
              " [1, 5, 6, 2, 7, 8, 9, 10],\n",
              " [1, 5, 6, 2, 7, 8, 9, 10, 3]]"
            ]
          },
          "metadata": {
            "tags": []
          },
          "execution_count": 8
        }
      ]
    },
    {
      "cell_type": "code",
      "metadata": {
        "id": "UHAmZBhhYFzv",
        "colab_type": "code",
        "colab": {}
      },
      "source": [
        "# np.array([np.array(xi) for xi in listy[1:]]) # creating array retaining the shape"
      ],
      "execution_count": 0,
      "outputs": []
    },
    {
      "cell_type": "code",
      "metadata": {
        "id": "LH0pUQEJZuNw",
        "colab_type": "code",
        "outputId": "afdfaf82-74ed-4744-e73c-089f13d13742",
        "colab": {
          "base_uri": "https://localhost:8080/",
          "height": 34
        }
      },
      "source": [
        "length = len(sorted(listy[1:],key = len, reverse = True)[0])   # creating array by adding 0 to make all rows equal\n",
        "X = np.array([xi + [0] * (length - len(xi)) for xi in listy[1:]])\n",
        "X.shape  # creating X array"
      ],
      "execution_count": 0,
      "outputs": [
        {
          "output_type": "execute_result",
          "data": {
            "text/plain": [
              "(26, 26)"
            ]
          },
          "metadata": {
            "tags": []
          },
          "execution_count": 10
        }
      ]
    },
    {
      "cell_type": "code",
      "metadata": {
        "id": "YOpL0qlCsVff",
        "colab_type": "code",
        "outputId": "6e40b717-22ce-45f1-e497-3209d9962e6c",
        "colab": {
          "base_uri": "https://localhost:8080/",
          "height": 85
        }
      },
      "source": [
        "scaler = StandardScaler()\n",
        "X = scaler.fit_transform(X)"
      ],
      "execution_count": 0,
      "outputs": [
        {
          "output_type": "stream",
          "text": [
            "/usr/local/lib/python3.6/dist-packages/sklearn/utils/validation.py:595: DataConversionWarning: Data with input dtype int64 was converted to float64 by StandardScaler.\n",
            "  warnings.warn(msg, DataConversionWarning)\n",
            "/usr/local/lib/python3.6/dist-packages/sklearn/utils/validation.py:595: DataConversionWarning: Data with input dtype int64 was converted to float64 by StandardScaler.\n",
            "  warnings.warn(msg, DataConversionWarning)\n"
          ],
          "name": "stderr"
        }
      ]
    },
    {
      "cell_type": "code",
      "metadata": {
        "id": "EaIZP8UtX0J9",
        "colab_type": "code",
        "outputId": "90119835-5337-4d66-b2bf-d31ec4358b15",
        "colab": {
          "base_uri": "https://localhost:8080/",
          "height": 119
        }
      },
      "source": [
        "X[0]"
      ],
      "execution_count": 0,
      "outputs": [
        {
          "output_type": "execute_result",
          "data": {
            "text/plain": [
              "array([ 0.        , -5.        , -3.46410162, -2.76887462, -2.34520788,\n",
              "       -2.04939015, -1.82574186, -1.64750894, -1.5       , -1.37436854,\n",
              "       -1.26491106, -1.16774842, -1.08012345, -1.        , -0.9258201 ,\n",
              "       -0.85634884, -0.79056942, -0.72760688, -0.66666667, -0.60697698,\n",
              "       -0.54772256, -0.48795004, -0.42640143, -0.36115756, -0.28867513,\n",
              "       -0.2       ])"
            ]
          },
          "metadata": {
            "tags": []
          },
          "execution_count": 14
        }
      ]
    },
    {
      "cell_type": "code",
      "metadata": {
        "id": "bMq9FIMbN7tq",
        "colab_type": "code",
        "outputId": "7278d81a-1fe6-4d12-c522-1650b9a531aa",
        "colab": {
          "base_uri": "https://localhost:8080/",
          "height": 34
        }
      },
      "source": [
        "y = [i for i in encoded][1:] # creating y array\n",
        "len(y)"
      ],
      "execution_count": 0,
      "outputs": [
        {
          "output_type": "execute_result",
          "data": {
            "text/plain": [
              "26"
            ]
          },
          "metadata": {
            "tags": []
          },
          "execution_count": 15
        }
      ]
    },
    {
      "cell_type": "code",
      "metadata": {
        "id": "kBtV_MblN_ly",
        "colab_type": "code",
        "colab": {}
      },
      "source": [
        "# one hot encode outputs\n",
        "y = to_categorical(y, num_classes = vocab_size)"
      ],
      "execution_count": 0,
      "outputs": []
    },
    {
      "cell_type": "code",
      "metadata": {
        "id": "M8hS0EsOsHZK",
        "colab_type": "code",
        "outputId": "08b3a4cd-9e74-4c0d-cf1b-3896575b7ff6",
        "colab": {
          "base_uri": "https://localhost:8080/",
          "height": 51
        }
      },
      "source": [
        "y[0]"
      ],
      "execution_count": 0,
      "outputs": [
        {
          "output_type": "execute_result",
          "data": {
            "text/plain": [
              "array([0., 0., 0., 0., 0., 1., 0., 0., 0., 0., 0., 0., 0., 0., 0., 0., 0.,\n",
              "       0., 0., 0., 0., 0., 0., 0.], dtype=float32)"
            ]
          },
          "metadata": {
            "tags": []
          },
          "execution_count": 17
        }
      ]
    },
    {
      "cell_type": "code",
      "metadata": {
        "id": "fh72jiM3LZkH",
        "colab_type": "code",
        "outputId": "753a3659-5384-45bb-bfa0-77d8887c4616",
        "colab": {
          "base_uri": "https://localhost:8080/",
          "height": 35
        }
      },
      "source": [
        "X.shape, y.shape"
      ],
      "execution_count": 0,
      "outputs": [
        {
          "output_type": "execute_result",
          "data": {
            "text/plain": [
              "((26, 26), (26, 24))"
            ]
          },
          "metadata": {
            "tags": []
          },
          "execution_count": 16
        }
      ]
    },
    {
      "cell_type": "code",
      "metadata": {
        "id": "lT6XGFybeuRM",
        "colab_type": "code",
        "outputId": "b1929632-5599-4f9a-b335-ec40b0bb65ec",
        "colab": {
          "base_uri": "https://localhost:8080/",
          "height": 34
        }
      },
      "source": [
        "# LSTMs accept input in the form of (number_of_sequences, length_of_sequence, number_of_features)\n",
        "X_lstm = np.reshape(X, (X.shape[0], X.shape[1], 1))\n",
        "X_lstm.shape"
      ],
      "execution_count": 0,
      "outputs": [
        {
          "output_type": "execute_result",
          "data": {
            "text/plain": [
              "(26, 26, 1)"
            ]
          },
          "metadata": {
            "tags": []
          },
          "execution_count": 18
        }
      ]
    },
    {
      "cell_type": "code",
      "metadata": {
        "id": "AiS7DGsZfg4A",
        "colab_type": "code",
        "outputId": "bc6d91ab-273d-4e78-a64a-5ad2fd0fa18a",
        "colab": {
          "base_uri": "https://localhost:8080/",
          "height": 357
        }
      },
      "source": [
        "model = tf.keras.models.Sequential()\n",
        "model.add(tf.keras.layers.LSTM(50, input_shape = (X_lstm.shape[1], X_lstm.shape[2])))#, return_sequences = True))\n",
        "model.add(tf.keras.layers.Dropout(0.2))\n",
        "# model.add(tf.keras.layers.LSTM(50, return_sequences = True))\n",
        "# model.add(tf.keras.layers.Dropout(0.2))\n",
        "# model.add(tf.keras.layers.LSTM(500, return_sequences = True))\n",
        "# model.add(tf.keras.layers.Dropout(0.2))\n",
        "# model.add(tf.keras.layers.LSTM(500, return_sequences = True))\n",
        "# model.add(tf.keras.layers.Dropout(0.2))\n",
        "# model.add(tf.keras.layers.LSTM(2500, return_sequences = True))\n",
        "# model.add(tf.keras.layers.Dropout(0.2))\n",
        "# model.add(tf.keras.layers.LSTM(50))\n",
        "# model.add(tf.keras.layers.Dropout(0.2))\n",
        "model.add(tf.keras.layers.Dense(y.shape[1], activation='softmax'))\n",
        "model.compile(loss = 'categorical_crossentropy', optimizer = 'adam', metrics = ['accuracy'])\n",
        "print(model.summary())"
      ],
      "execution_count": 0,
      "outputs": [
        {
          "output_type": "stream",
          "text": [
            "WARNING:tensorflow:From /usr/local/lib/python3.6/dist-packages/tensorflow/python/ops/resource_variable_ops.py:435: colocate_with (from tensorflow.python.framework.ops) is deprecated and will be removed in a future version.\n",
            "Instructions for updating:\n",
            "Colocations handled automatically by placer.\n",
            "WARNING:tensorflow:From /usr/local/lib/python3.6/dist-packages/tensorflow/python/keras/layers/core.py:143: calling dropout (from tensorflow.python.ops.nn_ops) with keep_prob is deprecated and will be removed in a future version.\n",
            "Instructions for updating:\n",
            "Please use `rate` instead of `keep_prob`. Rate should be set to `rate = 1 - keep_prob`.\n",
            "_________________________________________________________________\n",
            "Layer (type)                 Output Shape              Param #   \n",
            "=================================================================\n",
            "lstm (LSTM)                  (None, 50)                10400     \n",
            "_________________________________________________________________\n",
            "dropout (Dropout)            (None, 50)                0         \n",
            "_________________________________________________________________\n",
            "dense (Dense)                (None, 24)                1224      \n",
            "=================================================================\n",
            "Total params: 11,624\n",
            "Trainable params: 11,624\n",
            "Non-trainable params: 0\n",
            "_________________________________________________________________\n",
            "None\n"
          ],
          "name": "stdout"
        }
      ]
    },
    {
      "cell_type": "code",
      "metadata": {
        "id": "XDd_BheDe5jb",
        "colab_type": "code",
        "outputId": "dc2c8ba9-f973-42cd-9528-7db0adc69fe5",
        "colab": {
          "base_uri": "https://localhost:8080/",
          "height": 459
        }
      },
      "source": [
        "TPU_WORKER = 'grpc://' + os.environ['COLAB_TPU_ADDR']\n",
        "tf.logging.set_verbosity(tf.logging.INFO)\n",
        "\n",
        "tpu_model = tf.contrib.tpu.keras_to_tpu_model(\n",
        "    model,\n",
        "    strategy=tf.contrib.tpu.TPUDistributionStrategy(\n",
        "        tf.contrib.cluster_resolver.TPUClusterResolver(TPU_WORKER)))"
      ],
      "execution_count": 0,
      "outputs": [
        {
          "output_type": "stream",
          "text": [
            "\n",
            "WARNING: The TensorFlow contrib module will not be included in TensorFlow 2.0.\n",
            "For more information, please see:\n",
            "  * https://github.com/tensorflow/community/blob/master/rfcs/20180907-contrib-sunset.md\n",
            "  * https://github.com/tensorflow/addons\n",
            "If you depend on functionality not listed there, please file an issue.\n",
            "\n",
            "INFO:tensorflow:Querying Tensorflow master (grpc://10.86.123.98:8470) for TPU system metadata.\n",
            "INFO:tensorflow:Found TPU system:\n",
            "INFO:tensorflow:*** Num TPU Cores: 8\n",
            "INFO:tensorflow:*** Num TPU Workers: 1\n",
            "INFO:tensorflow:*** Num TPU Cores Per Worker: 8\n",
            "INFO:tensorflow:*** Available Device: _DeviceAttributes(/job:worker/replica:0/task:0/device:CPU:0, CPU, -1, 9908395419379460952)\n",
            "INFO:tensorflow:*** Available Device: _DeviceAttributes(/job:worker/replica:0/task:0/device:XLA_CPU:0, XLA_CPU, 17179869184, 11439517981440160975)\n",
            "INFO:tensorflow:*** Available Device: _DeviceAttributes(/job:worker/replica:0/task:0/device:TPU:0, TPU, 17179869184, 1212404706152780327)\n",
            "INFO:tensorflow:*** Available Device: _DeviceAttributes(/job:worker/replica:0/task:0/device:TPU:1, TPU, 17179869184, 12049659652082386877)\n",
            "INFO:tensorflow:*** Available Device: _DeviceAttributes(/job:worker/replica:0/task:0/device:TPU:2, TPU, 17179869184, 1966401837543455855)\n",
            "INFO:tensorflow:*** Available Device: _DeviceAttributes(/job:worker/replica:0/task:0/device:TPU:3, TPU, 17179869184, 4490064321698689561)\n",
            "INFO:tensorflow:*** Available Device: _DeviceAttributes(/job:worker/replica:0/task:0/device:TPU:4, TPU, 17179869184, 13793037818812237758)\n",
            "INFO:tensorflow:*** Available Device: _DeviceAttributes(/job:worker/replica:0/task:0/device:TPU:5, TPU, 17179869184, 8847118372390118553)\n",
            "INFO:tensorflow:*** Available Device: _DeviceAttributes(/job:worker/replica:0/task:0/device:TPU:6, TPU, 17179869184, 15764082774091686476)\n",
            "INFO:tensorflow:*** Available Device: _DeviceAttributes(/job:worker/replica:0/task:0/device:TPU:7, TPU, 17179869184, 3198362694413858952)\n",
            "INFO:tensorflow:*** Available Device: _DeviceAttributes(/job:worker/replica:0/task:0/device:TPU_SYSTEM:0, TPU_SYSTEM, 17179869184, 11516689499842027663)\n",
            "WARNING:tensorflow:tpu_model (from tensorflow.contrib.tpu.python.tpu.keras_support) is experimental and may change or be removed at any time, and without warning.\n",
            "INFO:tensorflow:Cloning Adam {'lr': 0.0010000000474974513, 'beta_1': 0.8999999761581421, 'beta_2': 0.9990000128746033, 'decay': 0.0, 'epsilon': 1e-07, 'amsgrad': False}\n",
            "INFO:tensorflow:Cloning Adam {'lr': 0.0010000000474974513, 'beta_1': 0.8999999761581421, 'beta_2': 0.9990000128746033, 'decay': 0.0, 'epsilon': 1e-07, 'amsgrad': False}\n"
          ],
          "name": "stdout"
        }
      ]
    },
    {
      "cell_type": "code",
      "metadata": {
        "id": "54bVMlFbfAJU",
        "colab_type": "code",
        "outputId": "8efab62e-3e30-4fa1-b7b7-4952351ff5d4",
        "colab": {
          "base_uri": "https://localhost:8080/",
          "height": 272
        }
      },
      "source": [
        "tpu_model.summary()"
      ],
      "execution_count": 0,
      "outputs": [
        {
          "output_type": "stream",
          "text": [
            "_________________________________________________________________\n",
            "Layer (type)                 Output Shape              Param #   \n",
            "=================================================================\n",
            "lstm_input (InputLayer)      (None, 26, 1)             0         \n",
            "_________________________________________________________________\n",
            "lstm (LSTM)                  (None, 50)                10400     \n",
            "_________________________________________________________________\n",
            "dropout (Dropout)            (None, 50)                0         \n",
            "_________________________________________________________________\n",
            "dense (Dense)                (None, 24)                1224      \n",
            "=================================================================\n",
            "Total params: 11,624\n",
            "Trainable params: 11,624\n",
            "Non-trainable params: 0\n",
            "_________________________________________________________________\n"
          ],
          "name": "stdout"
        }
      ]
    },
    {
      "cell_type": "code",
      "metadata": {
        "id": "HnaZY1IrfEso",
        "colab_type": "code",
        "outputId": "2a52878b-1056-4f04-e44f-89e95a6347cb",
        "colab": {
          "base_uri": "https://localhost:8080/",
          "height": 17394
        }
      },
      "source": [
        "#early_stopping_monitor = EarlyStopping(monitor = 'loss', patience = 4, verbose = 0, mode='auto')\n",
        "tpu_model.fit(X_lstm, y, epochs = 500, batch_size = 50)#, callbacks = [early_stopping_monitor])"
      ],
      "execution_count": 0,
      "outputs": [
        {
          "output_type": "stream",
          "text": [
            "Epoch 1/500\n",
            "INFO:tensorflow:New input shapes; (re-)compiling: mode=train (# of cores 8), [TensorSpec(shape=(3,), dtype=tf.int32, name='core_id0'), TensorSpec(shape=(3, 26, 1), dtype=tf.float32, name='lstm_input_10'), TensorSpec(shape=(3, 24), dtype=tf.float32, name='dense_target_30')]\n",
            "INFO:tensorflow:Overriding default placeholder.\n",
            "INFO:tensorflow:Cloning Adam {'lr': 0.0010000000474974513, 'beta_1': 0.8999999761581421, 'beta_2': 0.9990000128746033, 'decay': 0.0, 'epsilon': 1e-07, 'amsgrad': False}\n",
            "INFO:tensorflow:Remapping placeholder for lstm_input\n",
            "WARNING:tensorflow:From /usr/local/lib/python3.6/dist-packages/tensorflow/contrib/tpu/python/tpu/keras_support.py:302: to_float (from tensorflow.python.ops.math_ops) is deprecated and will be removed in a future version.\n",
            "Instructions for updating:\n",
            "Use tf.cast instead.\n",
            "INFO:tensorflow:KerasCrossShard: <tensorflow.python.keras.optimizers.Adam object at 0x7fa3d1df2898> []\n",
            "WARNING:tensorflow:From /usr/local/lib/python3.6/dist-packages/tensorflow/python/ops/math_ops.py:3066: to_int32 (from tensorflow.python.ops.math_ops) is deprecated and will be removed in a future version.\n",
            "Instructions for updating:\n",
            "Use tf.cast instead.\n",
            "INFO:tensorflow:Started compiling\n",
            "INFO:tensorflow:Finished compiling. Time elapsed: 2.108351707458496 secs\n",
            "INFO:tensorflow:Setting weights on TPU model.\n",
            "INFO:tensorflow:CPU -> TPU lr: 0.0010000000474974513 {0.001}\n",
            "INFO:tensorflow:CPU -> TPU beta_1: 0.8999999761581421 {0.9}\n",
            "INFO:tensorflow:CPU -> TPU beta_2: 0.9990000128746033 {0.999}\n",
            "INFO:tensorflow:CPU -> TPU decay: 0.0 {0.0}\n",
            "WARNING:tensorflow:Cannot update non-variable config: epsilon\n",
            "WARNING:tensorflow:Cannot update non-variable config: amsgrad\n",
            "26/26 [==============================] - 11s 420ms/sample - loss: 3.1843 - acc: 0.0417\n",
            "Epoch 2/500\n",
            "26/26 [==============================] - 0s 740us/sample - loss: 3.1804 - acc: 0.0000e+00\n",
            "Epoch 3/500\n",
            "26/26 [==============================] - 0s 665us/sample - loss: 3.1809 - acc: 0.0417\n",
            "Epoch 4/500\n",
            "26/26 [==============================] - 0s 504us/sample - loss: 3.1775 - acc: 0.1250\n",
            "Epoch 5/500\n",
            "26/26 [==============================] - 0s 579us/sample - loss: 3.1650 - acc: 0.0417\n",
            "Epoch 6/500\n",
            "26/26 [==============================] - 0s 590us/sample - loss: 3.1605 - acc: 0.2083\n",
            "Epoch 7/500\n",
            "26/26 [==============================] - 0s 508us/sample - loss: 3.1611 - acc: 0.0417\n",
            "Epoch 8/500\n",
            "26/26 [==============================] - 0s 535us/sample - loss: 3.1547 - acc: 0.1667\n",
            "Epoch 9/500\n",
            "26/26 [==============================] - 0s 660us/sample - loss: 3.1494 - acc: 0.0417\n",
            "Epoch 10/500\n",
            "26/26 [==============================] - 0s 479us/sample - loss: 3.1343 - acc: 0.2083\n",
            "Epoch 11/500\n",
            "26/26 [==============================] - 0s 544us/sample - loss: 3.1441 - acc: 0.1250\n",
            "Epoch 12/500\n",
            "26/26 [==============================] - 0s 558us/sample - loss: 3.1178 - acc: 0.1250\n",
            "Epoch 13/500\n",
            "26/26 [==============================] - 0s 568us/sample - loss: 3.1214 - acc: 0.0833\n",
            "Epoch 14/500\n",
            "26/26 [==============================] - 0s 577us/sample - loss: 3.1067 - acc: 0.1250\n",
            "Epoch 15/500\n",
            "26/26 [==============================] - 0s 540us/sample - loss: 3.1235 - acc: 0.1667\n",
            "Epoch 16/500\n",
            "26/26 [==============================] - 0s 553us/sample - loss: 3.0961 - acc: 0.0833\n",
            "Epoch 17/500\n",
            "26/26 [==============================] - 0s 628us/sample - loss: 3.1202 - acc: 0.1667\n",
            "Epoch 18/500\n",
            "26/26 [==============================] - 0s 590us/sample - loss: 3.1201 - acc: 0.1250\n",
            "Epoch 19/500\n",
            "26/26 [==============================] - 0s 546us/sample - loss: 3.1024 - acc: 0.1250\n",
            "Epoch 20/500\n",
            "26/26 [==============================] - 0s 860us/sample - loss: 3.0749 - acc: 0.1250\n",
            "Epoch 21/500\n",
            "26/26 [==============================] - 0s 783us/sample - loss: 3.0617 - acc: 0.0833\n",
            "Epoch 22/500\n",
            "26/26 [==============================] - 0s 673us/sample - loss: 3.0541 - acc: 0.0833\n",
            "Epoch 23/500\n",
            "26/26 [==============================] - 0s 660us/sample - loss: 3.0314 - acc: 0.1250\n",
            "Epoch 24/500\n",
            "26/26 [==============================] - 0s 677us/sample - loss: 3.0195 - acc: 0.1250\n",
            "Epoch 25/500\n",
            "26/26 [==============================] - 0s 544us/sample - loss: 3.0006 - acc: 0.1667\n",
            "Epoch 26/500\n",
            "26/26 [==============================] - 0s 559us/sample - loss: 3.0001 - acc: 0.0833\n",
            "Epoch 27/500\n",
            "26/26 [==============================] - 0s 572us/sample - loss: 2.9824 - acc: 0.0833\n",
            "Epoch 28/500\n",
            "26/26 [==============================] - 0s 531us/sample - loss: 2.9963 - acc: 0.1667\n",
            "Epoch 29/500\n",
            "26/26 [==============================] - 0s 547us/sample - loss: 2.9430 - acc: 0.2083\n",
            "Epoch 30/500\n",
            "26/26 [==============================] - 0s 601us/sample - loss: 2.9335 - acc: 0.1667\n",
            "Epoch 31/500\n",
            "26/26 [==============================] - 0s 467us/sample - loss: 2.9040 - acc: 0.0417\n",
            "Epoch 32/500\n",
            "26/26 [==============================] - 0s 521us/sample - loss: 2.9221 - acc: 0.0833\n",
            "Epoch 33/500\n",
            "26/26 [==============================] - 0s 642us/sample - loss: 2.9547 - acc: 0.0417\n",
            "Epoch 34/500\n",
            "26/26 [==============================] - 0s 679us/sample - loss: 2.8208 - acc: 0.0833\n",
            "Epoch 35/500\n",
            "26/26 [==============================] - 0s 705us/sample - loss: 2.8743 - acc: 0.1667\n",
            "Epoch 36/500\n",
            "26/26 [==============================] - 0s 502us/sample - loss: 2.8784 - acc: 0.1667\n",
            "Epoch 37/500\n",
            "26/26 [==============================] - 0s 577us/sample - loss: 2.8752 - acc: 0.1250\n",
            "Epoch 38/500\n",
            "26/26 [==============================] - 0s 511us/sample - loss: 2.8663 - acc: 0.0417\n",
            "Epoch 39/500\n",
            "26/26 [==============================] - 0s 609us/sample - loss: 2.7211 - acc: 0.1250\n",
            "Epoch 40/500\n",
            "26/26 [==============================] - 0s 565us/sample - loss: 2.8013 - acc: 0.1250\n",
            "Epoch 41/500\n",
            "26/26 [==============================] - 0s 589us/sample - loss: 2.7591 - acc: 0.2083\n",
            "Epoch 42/500\n",
            "26/26 [==============================] - 0s 566us/sample - loss: 2.7312 - acc: 0.1667\n",
            "Epoch 43/500\n",
            "26/26 [==============================] - 0s 525us/sample - loss: 2.7473 - acc: 0.1667\n",
            "Epoch 44/500\n",
            "26/26 [==============================] - 0s 521us/sample - loss: 2.8373 - acc: 0.1250\n",
            "Epoch 45/500\n",
            "26/26 [==============================] - 0s 579us/sample - loss: 2.7501 - acc: 0.1250\n",
            "Epoch 46/500\n",
            "26/26 [==============================] - 0s 551us/sample - loss: 2.7467 - acc: 0.1250\n",
            "Epoch 47/500\n",
            "26/26 [==============================] - 0s 789us/sample - loss: 2.5967 - acc: 0.3333\n",
            "Epoch 48/500\n",
            "26/26 [==============================] - 0s 570us/sample - loss: 2.6642 - acc: 0.1667\n",
            "Epoch 49/500\n",
            "26/26 [==============================] - 0s 546us/sample - loss: 2.7202 - acc: 0.1250\n",
            "Epoch 50/500\n",
            "26/26 [==============================] - 0s 832us/sample - loss: 2.6588 - acc: 0.1667\n",
            "Epoch 51/500\n",
            "26/26 [==============================] - 0s 588us/sample - loss: 2.5409 - acc: 0.2500\n",
            "Epoch 52/500\n",
            "26/26 [==============================] - 0s 605us/sample - loss: 2.5835 - acc: 0.1250\n",
            "Epoch 53/500\n",
            "26/26 [==============================] - 0s 620us/sample - loss: 2.5952 - acc: 0.2083\n",
            "Epoch 54/500\n",
            "26/26 [==============================] - 0s 624us/sample - loss: 2.5976 - acc: 0.3750\n",
            "Epoch 55/500\n",
            "26/26 [==============================] - 0s 546us/sample - loss: 2.5430 - acc: 0.1667\n",
            "Epoch 56/500\n",
            "26/26 [==============================] - 0s 557us/sample - loss: 2.5613 - acc: 0.2500\n",
            "Epoch 57/500\n",
            "26/26 [==============================] - 0s 514us/sample - loss: 2.4317 - acc: 0.2083\n",
            "Epoch 58/500\n",
            "26/26 [==============================] - 0s 516us/sample - loss: 2.4605 - acc: 0.1250\n",
            "Epoch 59/500\n",
            "26/26 [==============================] - 0s 590us/sample - loss: 2.5071 - acc: 0.2500\n",
            "Epoch 60/500\n",
            "26/26 [==============================] - 0s 581us/sample - loss: 2.3994 - acc: 0.2083\n",
            "Epoch 61/500\n",
            "26/26 [==============================] - 0s 661us/sample - loss: 2.5077 - acc: 0.2500\n",
            "Epoch 62/500\n",
            "26/26 [==============================] - 0s 578us/sample - loss: 2.5003 - acc: 0.1667\n",
            "Epoch 63/500\n",
            "26/26 [==============================] - 0s 628us/sample - loss: 2.4726 - acc: 0.2917\n",
            "Epoch 64/500\n",
            "26/26 [==============================] - 0s 587us/sample - loss: 2.4931 - acc: 0.3333\n",
            "Epoch 65/500\n",
            "26/26 [==============================] - 0s 559us/sample - loss: 2.2808 - acc: 0.3333\n",
            "Epoch 66/500\n",
            "26/26 [==============================] - 0s 598us/sample - loss: 2.3996 - acc: 0.2083\n",
            "Epoch 67/500\n",
            "26/26 [==============================] - 0s 619us/sample - loss: 2.3940 - acc: 0.2083\n",
            "Epoch 68/500\n",
            "26/26 [==============================] - 0s 582us/sample - loss: 2.3655 - acc: 0.2500\n",
            "Epoch 69/500\n",
            "26/26 [==============================] - 0s 551us/sample - loss: 2.4353 - acc: 0.2083\n",
            "Epoch 70/500\n",
            "26/26 [==============================] - 0s 530us/sample - loss: 2.3113 - acc: 0.2083\n",
            "Epoch 71/500\n",
            "26/26 [==============================] - 0s 677us/sample - loss: 2.2567 - acc: 0.1667\n",
            "Epoch 72/500\n",
            "26/26 [==============================] - 0s 729us/sample - loss: 2.3679 - acc: 0.2500\n",
            "Epoch 73/500\n",
            "26/26 [==============================] - 0s 551us/sample - loss: 2.3430 - acc: 0.2083\n",
            "Epoch 74/500\n",
            "26/26 [==============================] - 0s 562us/sample - loss: 2.2182 - acc: 0.2917\n",
            "Epoch 75/500\n",
            "26/26 [==============================] - 0s 505us/sample - loss: 2.2453 - acc: 0.2917\n",
            "Epoch 76/500\n",
            "26/26 [==============================] - 0s 516us/sample - loss: 2.2454 - acc: 0.3750\n",
            "Epoch 77/500\n",
            "26/26 [==============================] - 0s 592us/sample - loss: 2.2894 - acc: 0.2083\n",
            "Epoch 78/500\n",
            "26/26 [==============================] - 0s 543us/sample - loss: 2.2649 - acc: 0.2500\n",
            "Epoch 79/500\n",
            "26/26 [==============================] - 0s 648us/sample - loss: 2.2573 - acc: 0.4167\n",
            "Epoch 80/500\n",
            "26/26 [==============================] - 0s 483us/sample - loss: 2.2720 - acc: 0.2917\n",
            "Epoch 81/500\n",
            "26/26 [==============================] - 0s 909us/sample - loss: 2.2222 - acc: 0.2917\n",
            "Epoch 82/500\n",
            "26/26 [==============================] - 0s 537us/sample - loss: 2.1724 - acc: 0.2917\n",
            "Epoch 83/500\n",
            "26/26 [==============================] - 0s 494us/sample - loss: 2.2487 - acc: 0.2917\n",
            "Epoch 84/500\n",
            "26/26 [==============================] - 0s 553us/sample - loss: 2.2055 - acc: 0.2083\n",
            "Epoch 85/500\n",
            "26/26 [==============================] - 0s 550us/sample - loss: 2.2153 - acc: 0.2500\n",
            "Epoch 86/500\n",
            "26/26 [==============================] - 0s 498us/sample - loss: 2.1707 - acc: 0.2917\n",
            "Epoch 87/500\n",
            "26/26 [==============================] - 0s 670us/sample - loss: 2.1517 - acc: 0.2917\n",
            "Epoch 88/500\n",
            "26/26 [==============================] - 0s 618us/sample - loss: 2.1976 - acc: 0.2500\n",
            "Epoch 89/500\n",
            "26/26 [==============================] - 0s 519us/sample - loss: 2.1554 - acc: 0.2917\n",
            "Epoch 90/500\n",
            "26/26 [==============================] - 0s 893us/sample - loss: 2.1304 - acc: 0.3333\n",
            "Epoch 91/500\n",
            "26/26 [==============================] - 0s 562us/sample - loss: 2.1004 - acc: 0.3333\n",
            "Epoch 92/500\n",
            "26/26 [==============================] - 0s 707us/sample - loss: 2.0082 - acc: 0.3750\n",
            "Epoch 93/500\n",
            "26/26 [==============================] - 0s 486us/sample - loss: 2.1866 - acc: 0.2083\n",
            "Epoch 94/500\n",
            "26/26 [==============================] - 0s 509us/sample - loss: 2.1033 - acc: 0.2917\n",
            "Epoch 95/500\n",
            "26/26 [==============================] - 0s 526us/sample - loss: 2.0111 - acc: 0.3750\n",
            "Epoch 96/500\n",
            "26/26 [==============================] - 0s 500us/sample - loss: 2.1187 - acc: 0.2917\n",
            "Epoch 97/500\n",
            "26/26 [==============================] - 0s 609us/sample - loss: 2.0309 - acc: 0.5000\n",
            "Epoch 98/500\n",
            "26/26 [==============================] - 0s 480us/sample - loss: 2.0509 - acc: 0.2500\n",
            "Epoch 99/500\n",
            "26/26 [==============================] - 0s 559us/sample - loss: 2.0448 - acc: 0.2500\n",
            "Epoch 100/500\n",
            "26/26 [==============================] - 0s 617us/sample - loss: 2.0754 - acc: 0.2500\n",
            "Epoch 101/500\n",
            "26/26 [==============================] - 0s 491us/sample - loss: 2.0620 - acc: 0.3333\n",
            "Epoch 102/500\n",
            "26/26 [==============================] - 0s 506us/sample - loss: 2.0736 - acc: 0.4167\n",
            "Epoch 103/500\n",
            "26/26 [==============================] - 0s 479us/sample - loss: 2.1180 - acc: 0.2500\n",
            "Epoch 104/500\n",
            "26/26 [==============================] - 0s 595us/sample - loss: 2.0339 - acc: 0.3333\n",
            "Epoch 105/500\n",
            "26/26 [==============================] - 0s 645us/sample - loss: 2.0757 - acc: 0.2500\n",
            "Epoch 106/500\n",
            "26/26 [==============================] - 0s 860us/sample - loss: 2.0315 - acc: 0.2500\n",
            "Epoch 107/500\n",
            "26/26 [==============================] - 0s 669us/sample - loss: 1.9709 - acc: 0.4167\n",
            "Epoch 108/500\n",
            "26/26 [==============================] - 0s 645us/sample - loss: 1.9116 - acc: 0.4583\n",
            "Epoch 109/500\n",
            "26/26 [==============================] - 0s 661us/sample - loss: 1.9813 - acc: 0.2083\n",
            "Epoch 110/500\n",
            "26/26 [==============================] - 0s 528us/sample - loss: 1.9456 - acc: 0.3333\n",
            "Epoch 111/500\n",
            "26/26 [==============================] - 0s 502us/sample - loss: 1.8623 - acc: 0.4583\n",
            "Epoch 112/500\n",
            "26/26 [==============================] - 0s 500us/sample - loss: 1.9369 - acc: 0.2917\n",
            "Epoch 113/500\n",
            "26/26 [==============================] - 0s 465us/sample - loss: 1.9583 - acc: 0.2917\n",
            "Epoch 114/500\n",
            "26/26 [==============================] - 0s 521us/sample - loss: 1.9477 - acc: 0.3750\n",
            "Epoch 115/500\n",
            "26/26 [==============================] - 0s 526us/sample - loss: 1.9080 - acc: 0.3333\n",
            "Epoch 116/500\n",
            "26/26 [==============================] - 0s 472us/sample - loss: 1.7663 - acc: 0.5000\n",
            "Epoch 117/500\n",
            "26/26 [==============================] - 0s 561us/sample - loss: 1.8055 - acc: 0.5000\n",
            "Epoch 118/500\n",
            "26/26 [==============================] - 0s 676us/sample - loss: 1.8669 - acc: 0.4583\n",
            "Epoch 119/500\n",
            "26/26 [==============================] - 0s 570us/sample - loss: 1.9123 - acc: 0.2917\n",
            "Epoch 120/500\n",
            "26/26 [==============================] - 0s 552us/sample - loss: 1.9049 - acc: 0.3750\n",
            "Epoch 121/500\n",
            "26/26 [==============================] - 0s 563us/sample - loss: 1.7513 - acc: 0.4583\n",
            "Epoch 122/500\n",
            "26/26 [==============================] - 0s 459us/sample - loss: 1.7671 - acc: 0.5000\n",
            "Epoch 123/500\n",
            "26/26 [==============================] - 0s 615us/sample - loss: 1.9417 - acc: 0.3333\n",
            "Epoch 124/500\n",
            "26/26 [==============================] - 0s 567us/sample - loss: 1.9134 - acc: 0.2917\n",
            "Epoch 125/500\n",
            "26/26 [==============================] - 0s 551us/sample - loss: 1.8442 - acc: 0.3333\n",
            "Epoch 126/500\n",
            "26/26 [==============================] - 0s 541us/sample - loss: 1.8242 - acc: 0.4167\n",
            "Epoch 127/500\n",
            "26/26 [==============================] - 0s 520us/sample - loss: 1.7399 - acc: 0.4167\n",
            "Epoch 128/500\n",
            "26/26 [==============================] - 0s 478us/sample - loss: 1.8582 - acc: 0.2500\n",
            "Epoch 129/500\n",
            "26/26 [==============================] - 0s 481us/sample - loss: 1.7760 - acc: 0.4583\n",
            "Epoch 130/500\n",
            "26/26 [==============================] - 0s 471us/sample - loss: 1.7593 - acc: 0.5000\n",
            "Epoch 131/500\n",
            "26/26 [==============================] - 0s 570us/sample - loss: 1.6494 - acc: 0.5417\n",
            "Epoch 132/500\n",
            "26/26 [==============================] - 0s 490us/sample - loss: 1.7164 - acc: 0.5000\n",
            "Epoch 133/500\n",
            "26/26 [==============================] - 0s 536us/sample - loss: 1.6925 - acc: 0.4167\n",
            "Epoch 134/500\n",
            "26/26 [==============================] - 0s 494us/sample - loss: 1.7843 - acc: 0.3750\n",
            "Epoch 135/500\n",
            "26/26 [==============================] - 0s 451us/sample - loss: 1.7458 - acc: 0.3750\n",
            "Epoch 136/500\n",
            "26/26 [==============================] - 0s 569us/sample - loss: 1.7138 - acc: 0.4167\n",
            "Epoch 137/500\n",
            "26/26 [==============================] - 0s 608us/sample - loss: 1.7598 - acc: 0.4583\n",
            "Epoch 138/500\n",
            "26/26 [==============================] - 0s 464us/sample - loss: 1.7312 - acc: 0.4583\n",
            "Epoch 139/500\n",
            "26/26 [==============================] - 0s 544us/sample - loss: 1.7120 - acc: 0.3333\n",
            "Epoch 140/500\n",
            "26/26 [==============================] - 0s 585us/sample - loss: 1.6698 - acc: 0.4167\n",
            "Epoch 141/500\n",
            "26/26 [==============================] - 0s 562us/sample - loss: 1.6825 - acc: 0.4167\n",
            "Epoch 142/500\n",
            "26/26 [==============================] - 0s 541us/sample - loss: 1.6755 - acc: 0.4167\n",
            "Epoch 143/500\n",
            "26/26 [==============================] - 0s 486us/sample - loss: 1.6741 - acc: 0.3333\n",
            "Epoch 144/500\n",
            "26/26 [==============================] - 0s 481us/sample - loss: 1.6634 - acc: 0.5000\n",
            "Epoch 145/500\n",
            "26/26 [==============================] - 0s 447us/sample - loss: 1.6485 - acc: 0.4167\n",
            "Epoch 146/500\n",
            "26/26 [==============================] - 0s 556us/sample - loss: 1.5597 - acc: 0.5833\n",
            "Epoch 147/500\n",
            "26/26 [==============================] - 0s 503us/sample - loss: 1.6708 - acc: 0.4583\n",
            "Epoch 148/500\n",
            "26/26 [==============================] - 0s 608us/sample - loss: 1.6360 - acc: 0.4167\n",
            "Epoch 149/500\n",
            "26/26 [==============================] - 0s 515us/sample - loss: 1.6074 - acc: 0.5000\n",
            "Epoch 150/500\n",
            "26/26 [==============================] - 0s 604us/sample - loss: 1.6498 - acc: 0.4167\n",
            "Epoch 151/500\n",
            "26/26 [==============================] - 0s 461us/sample - loss: 1.5830 - acc: 0.5417\n",
            "Epoch 152/500\n",
            "26/26 [==============================] - 0s 513us/sample - loss: 1.5923 - acc: 0.6250\n",
            "Epoch 153/500\n",
            "26/26 [==============================] - 0s 531us/sample - loss: 1.6243 - acc: 0.4583\n",
            "Epoch 154/500\n",
            "26/26 [==============================] - 0s 505us/sample - loss: 1.5578 - acc: 0.5000\n",
            "Epoch 155/500\n",
            "26/26 [==============================] - 0s 638us/sample - loss: 1.5708 - acc: 0.5000\n",
            "Epoch 156/500\n",
            "26/26 [==============================] - 0s 478us/sample - loss: 1.5886 - acc: 0.3750\n",
            "Epoch 157/500\n",
            "26/26 [==============================] - 0s 740us/sample - loss: 1.5562 - acc: 0.5000\n",
            "Epoch 158/500\n",
            "26/26 [==============================] - 0s 512us/sample - loss: 1.5895 - acc: 0.4583\n",
            "Epoch 159/500\n",
            "26/26 [==============================] - 0s 519us/sample - loss: 1.5373 - acc: 0.4167\n",
            "Epoch 160/500\n",
            "26/26 [==============================] - 0s 540us/sample - loss: 1.5706 - acc: 0.5417\n",
            "Epoch 161/500\n",
            "26/26 [==============================] - 0s 568us/sample - loss: 1.6297 - acc: 0.4583\n",
            "Epoch 162/500\n",
            "26/26 [==============================] - 0s 653us/sample - loss: 1.4574 - acc: 0.6250\n",
            "Epoch 163/500\n",
            "26/26 [==============================] - 0s 656us/sample - loss: 1.5850 - acc: 0.5833\n",
            "Epoch 164/500\n",
            "26/26 [==============================] - 0s 502us/sample - loss: 1.6197 - acc: 0.4583\n",
            "Epoch 165/500\n",
            "26/26 [==============================] - 0s 692us/sample - loss: 1.6491 - acc: 0.4167\n",
            "Epoch 166/500\n",
            "26/26 [==============================] - 0s 484us/sample - loss: 1.6585 - acc: 0.4167\n",
            "Epoch 167/500\n",
            "26/26 [==============================] - 0s 629us/sample - loss: 1.5382 - acc: 0.5417\n",
            "Epoch 168/500\n",
            "26/26 [==============================] - 0s 531us/sample - loss: 1.5175 - acc: 0.4167\n",
            "Epoch 169/500\n",
            "26/26 [==============================] - 0s 599us/sample - loss: 1.5911 - acc: 0.4583\n",
            "Epoch 170/500\n",
            "26/26 [==============================] - 0s 583us/sample - loss: 1.4633 - acc: 0.7500\n",
            "Epoch 171/500\n",
            "26/26 [==============================] - 0s 555us/sample - loss: 1.6828 - acc: 0.4583\n",
            "Epoch 172/500\n",
            "26/26 [==============================] - 0s 555us/sample - loss: 1.5080 - acc: 0.5417\n",
            "Epoch 173/500\n",
            "26/26 [==============================] - 0s 586us/sample - loss: 1.4665 - acc: 0.5000\n",
            "Epoch 174/500\n",
            "26/26 [==============================] - 0s 769us/sample - loss: 1.5805 - acc: 0.3750\n",
            "Epoch 175/500\n",
            "26/26 [==============================] - 0s 572us/sample - loss: 1.4425 - acc: 0.6667\n",
            "Epoch 176/500\n",
            "26/26 [==============================] - 0s 506us/sample - loss: 1.4878 - acc: 0.5417\n",
            "Epoch 177/500\n",
            "26/26 [==============================] - 0s 678us/sample - loss: 1.3760 - acc: 0.5000\n",
            "Epoch 178/500\n",
            "26/26 [==============================] - 0s 512us/sample - loss: 1.6007 - acc: 0.4167\n",
            "Epoch 179/500\n",
            "26/26 [==============================] - 0s 531us/sample - loss: 1.5475 - acc: 0.4583\n",
            "Epoch 180/500\n",
            "26/26 [==============================] - 0s 527us/sample - loss: 1.4870 - acc: 0.4167\n",
            "Epoch 181/500\n",
            "26/26 [==============================] - 0s 555us/sample - loss: 1.4163 - acc: 0.5833\n",
            "Epoch 182/500\n",
            "26/26 [==============================] - 0s 501us/sample - loss: 1.3794 - acc: 0.7500\n",
            "Epoch 183/500\n",
            "26/26 [==============================] - 0s 509us/sample - loss: 1.4311 - acc: 0.5000\n",
            "Epoch 184/500\n",
            "26/26 [==============================] - 0s 1ms/sample - loss: 1.3790 - acc: 0.7083\n",
            "Epoch 185/500\n",
            "26/26 [==============================] - 0s 509us/sample - loss: 1.3743 - acc: 0.5833\n",
            "Epoch 186/500\n",
            "26/26 [==============================] - 0s 476us/sample - loss: 1.4053 - acc: 0.4583\n",
            "Epoch 187/500\n",
            "26/26 [==============================] - 0s 433us/sample - loss: 1.4288 - acc: 0.5417\n",
            "Epoch 188/500\n",
            "26/26 [==============================] - 0s 642us/sample - loss: 1.3332 - acc: 0.7083\n",
            "Epoch 189/500\n",
            "26/26 [==============================] - 0s 488us/sample - loss: 1.4102 - acc: 0.6250\n",
            "Epoch 190/500\n",
            "26/26 [==============================] - 0s 522us/sample - loss: 1.4259 - acc: 0.4583\n",
            "Epoch 191/500\n",
            "26/26 [==============================] - 0s 457us/sample - loss: 1.4389 - acc: 0.5417\n",
            "Epoch 192/500\n",
            "26/26 [==============================] - 0s 552us/sample - loss: 1.3403 - acc: 0.6667\n",
            "Epoch 193/500\n",
            "26/26 [==============================] - 0s 508us/sample - loss: 1.3400 - acc: 0.6250\n",
            "Epoch 194/500\n",
            "26/26 [==============================] - 0s 453us/sample - loss: 1.2822 - acc: 0.6667\n",
            "Epoch 195/500\n",
            "26/26 [==============================] - 0s 526us/sample - loss: 1.4127 - acc: 0.5000\n",
            "Epoch 196/500\n",
            "26/26 [==============================] - 0s 502us/sample - loss: 1.3958 - acc: 0.5417\n",
            "Epoch 197/500\n",
            "26/26 [==============================] - 0s 506us/sample - loss: 1.3058 - acc: 0.7083\n",
            "Epoch 198/500\n",
            "26/26 [==============================] - 0s 651us/sample - loss: 1.5244 - acc: 0.5417\n",
            "Epoch 199/500\n",
            "26/26 [==============================] - 0s 513us/sample - loss: 1.3851 - acc: 0.5417\n",
            "Epoch 200/500\n",
            "26/26 [==============================] - 0s 559us/sample - loss: 1.4107 - acc: 0.5833\n",
            "Epoch 201/500\n",
            "26/26 [==============================] - 0s 629us/sample - loss: 1.3967 - acc: 0.6667\n",
            "Epoch 202/500\n",
            "26/26 [==============================] - 0s 656us/sample - loss: 1.3866 - acc: 0.5417\n",
            "Epoch 203/500\n",
            "26/26 [==============================] - 0s 556us/sample - loss: 1.3929 - acc: 0.5833\n",
            "Epoch 204/500\n",
            "26/26 [==============================] - 0s 627us/sample - loss: 1.4028 - acc: 0.6667\n",
            "Epoch 205/500\n",
            "26/26 [==============================] - 0s 508us/sample - loss: 1.3332 - acc: 0.7083\n",
            "Epoch 206/500\n",
            "26/26 [==============================] - 0s 633us/sample - loss: 1.3426 - acc: 0.5000\n",
            "Epoch 207/500\n",
            "26/26 [==============================] - 0s 498us/sample - loss: 1.3201 - acc: 0.6667\n",
            "Epoch 208/500\n",
            "26/26 [==============================] - 0s 521us/sample - loss: 1.5095 - acc: 0.4583\n",
            "Epoch 209/500\n",
            "26/26 [==============================] - 0s 556us/sample - loss: 1.2374 - acc: 0.6250\n",
            "Epoch 210/500\n",
            "26/26 [==============================] - 0s 512us/sample - loss: 1.2613 - acc: 0.6250\n",
            "Epoch 211/500\n",
            "26/26 [==============================] - 0s 461us/sample - loss: 1.2465 - acc: 0.6667\n",
            "Epoch 212/500\n",
            "26/26 [==============================] - 0s 601us/sample - loss: 1.2254 - acc: 0.6250\n",
            "Epoch 213/500\n",
            "26/26 [==============================] - 0s 472us/sample - loss: 1.3209 - acc: 0.5000\n",
            "Epoch 214/500\n",
            "26/26 [==============================] - 0s 589us/sample - loss: 1.3028 - acc: 0.5833\n",
            "Epoch 215/500\n",
            "26/26 [==============================] - 0s 578us/sample - loss: 1.2240 - acc: 0.6667\n",
            "Epoch 216/500\n",
            "26/26 [==============================] - 0s 816us/sample - loss: 1.0889 - acc: 0.7500\n",
            "Epoch 217/500\n",
            "26/26 [==============================] - 0s 522us/sample - loss: 1.3104 - acc: 0.6250\n",
            "Epoch 218/500\n",
            "26/26 [==============================] - 0s 669us/sample - loss: 1.2537 - acc: 0.7083\n",
            "Epoch 219/500\n",
            "26/26 [==============================] - 0s 427us/sample - loss: 1.3322 - acc: 0.5417\n",
            "Epoch 220/500\n",
            "26/26 [==============================] - 0s 623us/sample - loss: 1.2700 - acc: 0.6667\n",
            "Epoch 221/500\n",
            "26/26 [==============================] - 0s 550us/sample - loss: 1.2397 - acc: 0.6250\n",
            "Epoch 222/500\n",
            "26/26 [==============================] - 0s 547us/sample - loss: 1.2539 - acc: 0.7500\n",
            "Epoch 223/500\n",
            "26/26 [==============================] - 0s 526us/sample - loss: 1.1710 - acc: 0.6667\n",
            "Epoch 224/500\n",
            "26/26 [==============================] - 0s 465us/sample - loss: 1.3245 - acc: 0.6250\n",
            "Epoch 225/500\n",
            "26/26 [==============================] - 0s 678us/sample - loss: 1.2895 - acc: 0.6667\n",
            "Epoch 226/500\n",
            "26/26 [==============================] - 0s 544us/sample - loss: 1.3193 - acc: 0.5000\n",
            "Epoch 227/500\n",
            "26/26 [==============================] - 0s 485us/sample - loss: 1.1978 - acc: 0.6667\n",
            "Epoch 228/500\n",
            "26/26 [==============================] - 0s 512us/sample - loss: 1.1652 - acc: 0.6667\n",
            "Epoch 229/500\n",
            "26/26 [==============================] - 0s 525us/sample - loss: 1.2668 - acc: 0.6250\n",
            "Epoch 230/500\n",
            "26/26 [==============================] - 0s 508us/sample - loss: 1.2394 - acc: 0.7083\n",
            "Epoch 231/500\n",
            "26/26 [==============================] - 0s 524us/sample - loss: 1.1753 - acc: 0.6250\n",
            "Epoch 232/500\n",
            "26/26 [==============================] - 0s 474us/sample - loss: 1.1603 - acc: 0.6250\n",
            "Epoch 233/500\n",
            "26/26 [==============================] - 0s 446us/sample - loss: 1.0769 - acc: 0.7500\n",
            "Epoch 234/500\n",
            "26/26 [==============================] - 0s 510us/sample - loss: 1.2470 - acc: 0.5833\n",
            "Epoch 235/500\n",
            "26/26 [==============================] - 0s 486us/sample - loss: 1.2264 - acc: 0.6667\n",
            "Epoch 236/500\n",
            "26/26 [==============================] - 0s 505us/sample - loss: 1.1395 - acc: 0.6667\n",
            "Epoch 237/500\n",
            "26/26 [==============================] - 0s 612us/sample - loss: 1.1900 - acc: 0.6250\n",
            "Epoch 238/500\n",
            "26/26 [==============================] - 0s 622us/sample - loss: 1.2338 - acc: 0.5833\n",
            "Epoch 239/500\n",
            "26/26 [==============================] - 0s 532us/sample - loss: 1.2009 - acc: 0.6250\n",
            "Epoch 240/500\n",
            "26/26 [==============================] - 0s 509us/sample - loss: 1.2110 - acc: 0.6250\n",
            "Epoch 241/500\n",
            "26/26 [==============================] - 0s 587us/sample - loss: 1.2137 - acc: 0.5833\n",
            "Epoch 242/500\n",
            "26/26 [==============================] - 0s 513us/sample - loss: 1.2458 - acc: 0.6250\n",
            "Epoch 243/500\n",
            "26/26 [==============================] - 0s 489us/sample - loss: 1.1323 - acc: 0.7083\n",
            "Epoch 244/500\n",
            "26/26 [==============================] - 0s 517us/sample - loss: 1.1014 - acc: 0.7083\n",
            "Epoch 245/500\n",
            "26/26 [==============================] - 0s 592us/sample - loss: 1.1377 - acc: 0.6250\n",
            "Epoch 246/500\n",
            "26/26 [==============================] - 0s 594us/sample - loss: 1.1896 - acc: 0.7083\n",
            "Epoch 247/500\n",
            "26/26 [==============================] - 0s 680us/sample - loss: 1.1759 - acc: 0.6250\n",
            "Epoch 248/500\n",
            "26/26 [==============================] - 0s 595us/sample - loss: 1.1117 - acc: 0.6667\n",
            "Epoch 249/500\n",
            "26/26 [==============================] - 0s 502us/sample - loss: 1.1941 - acc: 0.5417\n",
            "Epoch 250/500\n",
            "26/26 [==============================] - 0s 630us/sample - loss: 1.1271 - acc: 0.7917\n",
            "Epoch 251/500\n",
            "26/26 [==============================] - 0s 831us/sample - loss: 1.0816 - acc: 0.6667\n",
            "Epoch 252/500\n",
            "26/26 [==============================] - 0s 552us/sample - loss: 1.1646 - acc: 0.6667\n",
            "Epoch 253/500\n",
            "26/26 [==============================] - 0s 588us/sample - loss: 1.2287 - acc: 0.6667\n",
            "Epoch 254/500\n",
            "26/26 [==============================] - 0s 512us/sample - loss: 1.1092 - acc: 0.5833\n",
            "Epoch 255/500\n",
            "26/26 [==============================] - 0s 541us/sample - loss: 1.1182 - acc: 0.7083\n",
            "Epoch 256/500\n",
            "26/26 [==============================] - 0s 536us/sample - loss: 1.0847 - acc: 0.7500\n",
            "Epoch 257/500\n",
            "26/26 [==============================] - 0s 567us/sample - loss: 1.1352 - acc: 0.6250\n",
            "Epoch 258/500\n",
            "26/26 [==============================] - 0s 617us/sample - loss: 1.1017 - acc: 0.7500\n",
            "Epoch 259/500\n",
            "26/26 [==============================] - 0s 551us/sample - loss: 0.9792 - acc: 0.7917\n",
            "Epoch 260/500\n",
            "26/26 [==============================] - 0s 519us/sample - loss: 1.1995 - acc: 0.7083\n",
            "Epoch 261/500\n",
            "26/26 [==============================] - 0s 703us/sample - loss: 1.0916 - acc: 0.7500\n",
            "Epoch 262/500\n",
            "26/26 [==============================] - 0s 527us/sample - loss: 1.1345 - acc: 0.6667\n",
            "Epoch 263/500\n",
            "26/26 [==============================] - 0s 577us/sample - loss: 1.0746 - acc: 0.7083\n",
            "Epoch 264/500\n",
            "26/26 [==============================] - 0s 471us/sample - loss: 1.1314 - acc: 0.6250\n",
            "Epoch 265/500\n",
            "26/26 [==============================] - 0s 490us/sample - loss: 1.1780 - acc: 0.6250\n",
            "Epoch 266/500\n",
            "26/26 [==============================] - 0s 479us/sample - loss: 1.0218 - acc: 0.7917\n",
            "Epoch 267/500\n",
            "26/26 [==============================] - 0s 556us/sample - loss: 1.2276 - acc: 0.5833\n",
            "Epoch 268/500\n",
            "26/26 [==============================] - 0s 481us/sample - loss: 1.0884 - acc: 0.7500\n",
            "Epoch 269/500\n",
            "26/26 [==============================] - 0s 516us/sample - loss: 1.1273 - acc: 0.7917\n",
            "Epoch 270/500\n",
            "26/26 [==============================] - 0s 504us/sample - loss: 1.0407 - acc: 0.7500\n",
            "Epoch 271/500\n",
            "26/26 [==============================] - 0s 435us/sample - loss: 1.1245 - acc: 0.5833\n",
            "Epoch 272/500\n",
            "26/26 [==============================] - 0s 539us/sample - loss: 1.1585 - acc: 0.5417\n",
            "Epoch 273/500\n",
            "26/26 [==============================] - 0s 565us/sample - loss: 1.0441 - acc: 0.8333\n",
            "Epoch 274/500\n",
            "26/26 [==============================] - 0s 492us/sample - loss: 1.0251 - acc: 0.7500\n",
            "Epoch 275/500\n",
            "26/26 [==============================] - 0s 542us/sample - loss: 1.0162 - acc: 0.8333\n",
            "Epoch 276/500\n",
            "26/26 [==============================] - 0s 527us/sample - loss: 1.1773 - acc: 0.6250\n",
            "Epoch 277/500\n",
            "26/26 [==============================] - 0s 595us/sample - loss: 1.0259 - acc: 0.7083\n",
            "Epoch 278/500\n",
            "26/26 [==============================] - 0s 490us/sample - loss: 1.0685 - acc: 0.7500\n",
            "Epoch 279/500\n",
            "26/26 [==============================] - 0s 945us/sample - loss: 0.9581 - acc: 0.7083\n",
            "Epoch 280/500\n",
            "26/26 [==============================] - 0s 509us/sample - loss: 1.0525 - acc: 0.7083\n",
            "Epoch 281/500\n",
            "26/26 [==============================] - 0s 521us/sample - loss: 1.1423 - acc: 0.6250\n",
            "Epoch 282/500\n",
            "26/26 [==============================] - 0s 431us/sample - loss: 1.0188 - acc: 0.7500\n",
            "Epoch 283/500\n",
            "26/26 [==============================] - 0s 579us/sample - loss: 1.0404 - acc: 0.7083\n",
            "Epoch 284/500\n",
            "26/26 [==============================] - 0s 522us/sample - loss: 1.0200 - acc: 0.7083\n",
            "Epoch 285/500\n",
            "26/26 [==============================] - 0s 548us/sample - loss: 1.0985 - acc: 0.6667\n",
            "Epoch 286/500\n",
            "26/26 [==============================] - 0s 576us/sample - loss: 1.0723 - acc: 0.6667\n",
            "Epoch 287/500\n",
            "26/26 [==============================] - 0s 542us/sample - loss: 0.9466 - acc: 0.7500\n",
            "Epoch 288/500\n",
            "26/26 [==============================] - 0s 476us/sample - loss: 1.0399 - acc: 0.6250\n",
            "Epoch 289/500\n",
            "26/26 [==============================] - 0s 495us/sample - loss: 1.1647 - acc: 0.5833\n",
            "Epoch 290/500\n",
            "26/26 [==============================] - 0s 571us/sample - loss: 1.0483 - acc: 0.6667\n",
            "Epoch 291/500\n",
            "26/26 [==============================] - 0s 473us/sample - loss: 1.0868 - acc: 0.5833\n",
            "Epoch 292/500\n",
            "26/26 [==============================] - 0s 580us/sample - loss: 0.9946 - acc: 0.7083\n",
            "Epoch 293/500\n",
            "26/26 [==============================] - 0s 609us/sample - loss: 0.8830 - acc: 0.7917\n",
            "Epoch 294/500\n",
            "26/26 [==============================] - 0s 745us/sample - loss: 1.1361 - acc: 0.6667\n",
            "Epoch 295/500\n",
            "26/26 [==============================] - 0s 806us/sample - loss: 1.0383 - acc: 0.7083\n",
            "Epoch 296/500\n",
            "26/26 [==============================] - 0s 777us/sample - loss: 0.9719 - acc: 0.7083\n",
            "Epoch 297/500\n",
            "26/26 [==============================] - 0s 523us/sample - loss: 1.0546 - acc: 0.7500\n",
            "Epoch 298/500\n",
            "26/26 [==============================] - 0s 518us/sample - loss: 1.0488 - acc: 0.7083\n",
            "Epoch 299/500\n",
            "26/26 [==============================] - 0s 664us/sample - loss: 1.1585 - acc: 0.6250\n",
            "Epoch 300/500\n",
            "26/26 [==============================] - 0s 674us/sample - loss: 1.0266 - acc: 0.7500\n",
            "Epoch 301/500\n",
            "26/26 [==============================] - 0s 700us/sample - loss: 0.9690 - acc: 0.6667\n",
            "Epoch 302/500\n",
            "26/26 [==============================] - 0s 561us/sample - loss: 1.0643 - acc: 0.7917\n",
            "Epoch 303/500\n",
            "26/26 [==============================] - 0s 612us/sample - loss: 0.9657 - acc: 0.7500\n",
            "Epoch 304/500\n",
            "26/26 [==============================] - 0s 515us/sample - loss: 1.0443 - acc: 0.6250\n",
            "Epoch 305/500\n",
            "26/26 [==============================] - 0s 463us/sample - loss: 1.0243 - acc: 0.7917\n",
            "Epoch 306/500\n",
            "26/26 [==============================] - 0s 550us/sample - loss: 0.9696 - acc: 0.7917\n",
            "Epoch 307/500\n",
            "26/26 [==============================] - 0s 584us/sample - loss: 1.0424 - acc: 0.5833\n",
            "Epoch 308/500\n",
            "26/26 [==============================] - 0s 545us/sample - loss: 1.1485 - acc: 0.5833\n",
            "Epoch 309/500\n",
            "26/26 [==============================] - 0s 465us/sample - loss: 0.9324 - acc: 0.7500\n",
            "Epoch 310/500\n",
            "26/26 [==============================] - 0s 591us/sample - loss: 0.9576 - acc: 0.8750\n",
            "Epoch 311/500\n",
            "26/26 [==============================] - 0s 587us/sample - loss: 0.9430 - acc: 0.7500\n",
            "Epoch 312/500\n",
            "26/26 [==============================] - 0s 544us/sample - loss: 0.9589 - acc: 0.7500\n",
            "Epoch 313/500\n",
            "26/26 [==============================] - 0s 602us/sample - loss: 0.8489 - acc: 0.8333\n",
            "Epoch 314/500\n",
            "26/26 [==============================] - 0s 506us/sample - loss: 0.9560 - acc: 0.7500\n",
            "Epoch 315/500\n",
            "26/26 [==============================] - 0s 565us/sample - loss: 0.9450 - acc: 0.7917\n",
            "Epoch 316/500\n",
            "26/26 [==============================] - 0s 538us/sample - loss: 0.8494 - acc: 0.7917\n",
            "Epoch 317/500\n",
            "26/26 [==============================] - 0s 551us/sample - loss: 0.9941 - acc: 0.7083\n",
            "Epoch 318/500\n",
            "26/26 [==============================] - 0s 529us/sample - loss: 1.0279 - acc: 0.7083\n",
            "Epoch 319/500\n",
            "26/26 [==============================] - 0s 627us/sample - loss: 0.8670 - acc: 0.7917\n",
            "Epoch 320/500\n",
            "26/26 [==============================] - 0s 499us/sample - loss: 0.9843 - acc: 0.6667\n",
            "Epoch 321/500\n",
            "26/26 [==============================] - 0s 553us/sample - loss: 0.9679 - acc: 0.7917\n",
            "Epoch 322/500\n",
            "26/26 [==============================] - 0s 585us/sample - loss: 0.9966 - acc: 0.7083\n",
            "Epoch 323/500\n",
            "26/26 [==============================] - 0s 538us/sample - loss: 0.9257 - acc: 0.7083\n",
            "Epoch 324/500\n",
            "26/26 [==============================] - 0s 455us/sample - loss: 0.9687 - acc: 0.7917\n",
            "Epoch 325/500\n",
            "26/26 [==============================] - 0s 519us/sample - loss: 1.0039 - acc: 0.6250\n",
            "Epoch 326/500\n",
            "26/26 [==============================] - 0s 550us/sample - loss: 0.8611 - acc: 0.8333\n",
            "Epoch 327/500\n",
            "26/26 [==============================] - 0s 571us/sample - loss: 1.0668 - acc: 0.5417\n",
            "Epoch 328/500\n",
            "26/26 [==============================] - 0s 463us/sample - loss: 0.8730 - acc: 0.7500\n",
            "Epoch 329/500\n",
            "26/26 [==============================] - 0s 528us/sample - loss: 0.9412 - acc: 0.7500\n",
            "Epoch 330/500\n",
            "26/26 [==============================] - 0s 466us/sample - loss: 0.8124 - acc: 0.7917\n",
            "Epoch 331/500\n",
            "26/26 [==============================] - 0s 502us/sample - loss: 0.9647 - acc: 0.7917\n",
            "Epoch 332/500\n",
            "26/26 [==============================] - 0s 478us/sample - loss: 0.9502 - acc: 0.7083\n",
            "Epoch 333/500\n",
            "26/26 [==============================] - 0s 512us/sample - loss: 0.8184 - acc: 0.7917\n",
            "Epoch 334/500\n",
            "26/26 [==============================] - 0s 467us/sample - loss: 0.9236 - acc: 0.8333\n",
            "Epoch 335/500\n",
            "26/26 [==============================] - 0s 451us/sample - loss: 0.8899 - acc: 0.7500\n",
            "Epoch 336/500\n",
            "26/26 [==============================] - 0s 512us/sample - loss: 0.9539 - acc: 0.7083\n",
            "Epoch 337/500\n",
            "26/26 [==============================] - 0s 456us/sample - loss: 0.9348 - acc: 0.7500\n",
            "Epoch 338/500\n",
            "26/26 [==============================] - 0s 463us/sample - loss: 0.9543 - acc: 0.6667\n",
            "Epoch 339/500\n",
            "26/26 [==============================] - 0s 595us/sample - loss: 0.8039 - acc: 0.7500\n",
            "Epoch 340/500\n",
            "26/26 [==============================] - 0s 605us/sample - loss: 0.9213 - acc: 0.7500\n",
            "Epoch 341/500\n",
            "26/26 [==============================] - 0s 603us/sample - loss: 0.8735 - acc: 0.7500\n",
            "Epoch 342/500\n",
            "26/26 [==============================] - 0s 513us/sample - loss: 0.9416 - acc: 0.7083\n",
            "Epoch 343/500\n",
            "26/26 [==============================] - 0s 495us/sample - loss: 0.9711 - acc: 0.7500\n",
            "Epoch 344/500\n",
            "26/26 [==============================] - 0s 836us/sample - loss: 0.8854 - acc: 0.7917\n",
            "Epoch 345/500\n",
            "26/26 [==============================] - 0s 607us/sample - loss: 0.9013 - acc: 0.7083\n",
            "Epoch 346/500\n",
            "26/26 [==============================] - 0s 523us/sample - loss: 0.9433 - acc: 0.7917\n",
            "Epoch 347/500\n",
            "26/26 [==============================] - 0s 466us/sample - loss: 0.9012 - acc: 0.7500\n",
            "Epoch 348/500\n",
            "26/26 [==============================] - 0s 479us/sample - loss: 0.9056 - acc: 0.6667\n",
            "Epoch 349/500\n",
            "26/26 [==============================] - 0s 544us/sample - loss: 0.8895 - acc: 0.6667\n",
            "Epoch 350/500\n",
            "26/26 [==============================] - 0s 504us/sample - loss: 0.8133 - acc: 0.7917\n",
            "Epoch 351/500\n",
            "26/26 [==============================] - 0s 706us/sample - loss: 0.9110 - acc: 0.9167\n",
            "Epoch 352/500\n",
            "26/26 [==============================] - 0s 520us/sample - loss: 0.9489 - acc: 0.6667\n",
            "Epoch 353/500\n",
            "26/26 [==============================] - 0s 490us/sample - loss: 0.8445 - acc: 0.8333\n",
            "Epoch 354/500\n",
            "26/26 [==============================] - 0s 480us/sample - loss: 0.9262 - acc: 0.6667\n",
            "Epoch 355/500\n",
            "26/26 [==============================] - 0s 657us/sample - loss: 0.8251 - acc: 0.7917\n",
            "Epoch 356/500\n",
            "26/26 [==============================] - 0s 511us/sample - loss: 0.9086 - acc: 0.7500\n",
            "Epoch 357/500\n",
            "26/26 [==============================] - 0s 572us/sample - loss: 0.7569 - acc: 0.8333\n",
            "Epoch 358/500\n",
            "26/26 [==============================] - 0s 513us/sample - loss: 0.9223 - acc: 0.7083\n",
            "Epoch 359/500\n",
            "26/26 [==============================] - 0s 487us/sample - loss: 0.8482 - acc: 0.7500\n",
            "Epoch 360/500\n",
            "26/26 [==============================] - 0s 488us/sample - loss: 0.8537 - acc: 0.7917\n",
            "Epoch 361/500\n",
            "26/26 [==============================] - 0s 504us/sample - loss: 0.8497 - acc: 0.7083\n",
            "Epoch 362/500\n",
            "26/26 [==============================] - 0s 614us/sample - loss: 0.8407 - acc: 0.7917\n",
            "Epoch 363/500\n",
            "26/26 [==============================] - 0s 469us/sample - loss: 0.8934 - acc: 0.8333\n",
            "Epoch 364/500\n",
            "26/26 [==============================] - 0s 588us/sample - loss: 0.8018 - acc: 0.7500\n",
            "Epoch 365/500\n",
            "26/26 [==============================] - 0s 601us/sample - loss: 0.8642 - acc: 0.7917\n",
            "Epoch 366/500\n",
            "26/26 [==============================] - 0s 510us/sample - loss: 0.8170 - acc: 0.7917\n",
            "Epoch 367/500\n",
            "26/26 [==============================] - 0s 495us/sample - loss: 0.8568 - acc: 0.7083\n",
            "Epoch 368/500\n",
            "26/26 [==============================] - 0s 536us/sample - loss: 0.8526 - acc: 0.7500\n",
            "Epoch 369/500\n",
            "26/26 [==============================] - 0s 471us/sample - loss: 0.7969 - acc: 0.7500\n",
            "Epoch 370/500\n",
            "26/26 [==============================] - 0s 490us/sample - loss: 0.8840 - acc: 0.7500\n",
            "Epoch 371/500\n",
            "26/26 [==============================] - 0s 524us/sample - loss: 0.6628 - acc: 0.8750\n",
            "Epoch 372/500\n",
            "26/26 [==============================] - 0s 593us/sample - loss: 0.8031 - acc: 0.7917\n",
            "Epoch 373/500\n",
            "26/26 [==============================] - 0s 602us/sample - loss: 0.8282 - acc: 0.7083\n",
            "Epoch 374/500\n",
            "26/26 [==============================] - 0s 486us/sample - loss: 0.7918 - acc: 0.7500\n",
            "Epoch 375/500\n",
            "26/26 [==============================] - 0s 450us/sample - loss: 0.7939 - acc: 0.8333\n",
            "Epoch 376/500\n",
            "26/26 [==============================] - 0s 499us/sample - loss: 0.8815 - acc: 0.7500\n",
            "Epoch 377/500\n",
            "26/26 [==============================] - 0s 516us/sample - loss: 0.7504 - acc: 0.8333\n",
            "Epoch 378/500\n",
            "26/26 [==============================] - 0s 484us/sample - loss: 0.7920 - acc: 0.7917\n",
            "Epoch 379/500\n",
            "26/26 [==============================] - 0s 480us/sample - loss: 0.8069 - acc: 0.8333\n",
            "Epoch 380/500\n",
            "26/26 [==============================] - 0s 500us/sample - loss: 0.7880 - acc: 0.8750\n",
            "Epoch 381/500\n",
            "26/26 [==============================] - 0s 498us/sample - loss: 0.8559 - acc: 0.6667\n",
            "Epoch 382/500\n",
            "26/26 [==============================] - 0s 648us/sample - loss: 0.7769 - acc: 0.7917\n",
            "Epoch 383/500\n",
            "26/26 [==============================] - 0s 533us/sample - loss: 0.9152 - acc: 0.6667\n",
            "Epoch 384/500\n",
            "26/26 [==============================] - 0s 576us/sample - loss: 0.8159 - acc: 0.8333\n",
            "Epoch 385/500\n",
            "26/26 [==============================] - 0s 440us/sample - loss: 0.8128 - acc: 0.7500\n",
            "Epoch 386/500\n",
            "26/26 [==============================] - 0s 731us/sample - loss: 0.7594 - acc: 0.8333\n",
            "Epoch 387/500\n",
            "26/26 [==============================] - 0s 589us/sample - loss: 0.8262 - acc: 0.7917\n",
            "Epoch 388/500\n",
            "26/26 [==============================] - 0s 569us/sample - loss: 0.7574 - acc: 0.7917\n",
            "Epoch 389/500\n",
            "26/26 [==============================] - 0s 623us/sample - loss: 0.7933 - acc: 0.7917\n",
            "Epoch 390/500\n",
            "26/26 [==============================] - 0s 609us/sample - loss: 0.8588 - acc: 0.7500\n",
            "Epoch 391/500\n",
            "26/26 [==============================] - 0s 541us/sample - loss: 0.7113 - acc: 0.8333\n",
            "Epoch 392/500\n",
            "26/26 [==============================] - 0s 537us/sample - loss: 0.7757 - acc: 0.8333\n",
            "Epoch 393/500\n",
            "26/26 [==============================] - 0s 546us/sample - loss: 0.8888 - acc: 0.7083\n",
            "Epoch 394/500\n",
            "26/26 [==============================] - 0s 643us/sample - loss: 0.7030 - acc: 0.8750\n",
            "Epoch 395/500\n",
            "26/26 [==============================] - 0s 536us/sample - loss: 0.6945 - acc: 0.8750\n",
            "Epoch 396/500\n",
            "26/26 [==============================] - 0s 479us/sample - loss: 0.7463 - acc: 0.7500\n",
            "Epoch 397/500\n",
            "26/26 [==============================] - 0s 445us/sample - loss: 0.6968 - acc: 0.8333\n",
            "Epoch 398/500\n",
            "26/26 [==============================] - 0s 458us/sample - loss: 0.7895 - acc: 0.7500\n",
            "Epoch 399/500\n",
            "26/26 [==============================] - 0s 537us/sample - loss: 0.7120 - acc: 0.7917\n",
            "Epoch 400/500\n",
            "26/26 [==============================] - 0s 681us/sample - loss: 0.7083 - acc: 0.8333\n",
            "Epoch 401/500\n",
            "26/26 [==============================] - 0s 560us/sample - loss: 0.8240 - acc: 0.7083\n",
            "Epoch 402/500\n",
            "26/26 [==============================] - 0s 436us/sample - loss: 0.7361 - acc: 0.7500\n",
            "Epoch 403/500\n",
            "26/26 [==============================] - 0s 472us/sample - loss: 0.6914 - acc: 0.7500\n",
            "Epoch 404/500\n",
            "26/26 [==============================] - 0s 448us/sample - loss: 0.6373 - acc: 0.8750\n",
            "Epoch 405/500\n",
            "26/26 [==============================] - 0s 667us/sample - loss: 0.7489 - acc: 0.7500\n",
            "Epoch 406/500\n",
            "26/26 [==============================] - 0s 543us/sample - loss: 0.6996 - acc: 0.8333\n",
            "Epoch 407/500\n",
            "26/26 [==============================] - 0s 582us/sample - loss: 0.6265 - acc: 0.8333\n",
            "Epoch 408/500\n",
            "26/26 [==============================] - 0s 505us/sample - loss: 0.7186 - acc: 0.7500\n",
            "Epoch 409/500\n",
            "26/26 [==============================] - 0s 572us/sample - loss: 0.6978 - acc: 0.8333\n",
            "Epoch 410/500\n",
            "26/26 [==============================] - 0s 573us/sample - loss: 0.7239 - acc: 0.8333\n",
            "Epoch 411/500\n",
            "26/26 [==============================] - 0s 534us/sample - loss: 0.6564 - acc: 0.8750\n",
            "Epoch 412/500\n",
            "26/26 [==============================] - 0s 568us/sample - loss: 0.7409 - acc: 0.7917\n",
            "Epoch 413/500\n",
            "26/26 [==============================] - 0s 473us/sample - loss: 0.7397 - acc: 0.8750\n",
            "Epoch 414/500\n",
            "26/26 [==============================] - 0s 470us/sample - loss: 0.6841 - acc: 0.8750\n",
            "Epoch 415/500\n",
            "26/26 [==============================] - 0s 427us/sample - loss: 0.7593 - acc: 0.7917\n",
            "Epoch 416/500\n",
            "26/26 [==============================] - 0s 513us/sample - loss: 0.7450 - acc: 0.8750\n",
            "Epoch 417/500\n",
            "26/26 [==============================] - 0s 686us/sample - loss: 0.7036 - acc: 0.7500\n",
            "Epoch 418/500\n",
            "26/26 [==============================] - 0s 826us/sample - loss: 0.5875 - acc: 0.9167\n",
            "Epoch 419/500\n",
            "26/26 [==============================] - 0s 528us/sample - loss: 0.7123 - acc: 0.8333\n",
            "Epoch 420/500\n",
            "26/26 [==============================] - 0s 549us/sample - loss: 0.7315 - acc: 0.7917\n",
            "Epoch 421/500\n",
            "26/26 [==============================] - 0s 475us/sample - loss: 0.7599 - acc: 0.7917\n",
            "Epoch 422/500\n",
            "26/26 [==============================] - 0s 534us/sample - loss: 0.7088 - acc: 0.7917\n",
            "Epoch 423/500\n",
            "26/26 [==============================] - 0s 463us/sample - loss: 0.6203 - acc: 0.8750\n",
            "Epoch 424/500\n",
            "26/26 [==============================] - 0s 505us/sample - loss: 0.6891 - acc: 0.8333\n",
            "Epoch 425/500\n",
            "26/26 [==============================] - 0s 546us/sample - loss: 0.7422 - acc: 0.7500\n",
            "Epoch 426/500\n",
            "26/26 [==============================] - 0s 551us/sample - loss: 0.7068 - acc: 0.8333\n",
            "Epoch 427/500\n",
            "26/26 [==============================] - 0s 425us/sample - loss: 0.7210 - acc: 0.8750\n",
            "Epoch 428/500\n",
            "26/26 [==============================] - 0s 542us/sample - loss: 0.8342 - acc: 0.6667\n",
            "Epoch 429/500\n",
            "26/26 [==============================] - 0s 503us/sample - loss: 0.6736 - acc: 0.8750\n",
            "Epoch 430/500\n",
            "26/26 [==============================] - 0s 504us/sample - loss: 0.6922 - acc: 0.8750\n",
            "Epoch 431/500\n",
            "26/26 [==============================] - 0s 460us/sample - loss: 0.7024 - acc: 0.8333\n",
            "Epoch 432/500\n",
            "26/26 [==============================] - 0s 617us/sample - loss: 0.6515 - acc: 0.7917\n",
            "Epoch 433/500\n",
            "26/26 [==============================] - 0s 596us/sample - loss: 0.6638 - acc: 0.8750\n",
            "Epoch 434/500\n",
            "26/26 [==============================] - 0s 557us/sample - loss: 0.6829 - acc: 0.8333\n",
            "Epoch 435/500\n",
            "26/26 [==============================] - 0s 515us/sample - loss: 0.5940 - acc: 0.8750\n",
            "Epoch 436/500\n",
            "26/26 [==============================] - 0s 601us/sample - loss: 0.6232 - acc: 0.8750\n",
            "Epoch 437/500\n",
            "26/26 [==============================] - 0s 523us/sample - loss: 0.6609 - acc: 0.8750\n",
            "Epoch 438/500\n",
            "26/26 [==============================] - 0s 470us/sample - loss: 0.6635 - acc: 0.7917\n",
            "Epoch 439/500\n",
            "26/26 [==============================] - 0s 463us/sample - loss: 0.7112 - acc: 0.7500\n",
            "Epoch 440/500\n",
            "26/26 [==============================] - 0s 604us/sample - loss: 0.7427 - acc: 0.7917\n",
            "Epoch 441/500\n",
            "26/26 [==============================] - 0s 584us/sample - loss: 0.6103 - acc: 0.8333\n",
            "Epoch 442/500\n",
            "26/26 [==============================] - 0s 578us/sample - loss: 0.6730 - acc: 0.8750\n",
            "Epoch 443/500\n",
            "26/26 [==============================] - 0s 734us/sample - loss: 0.6910 - acc: 0.8333\n",
            "Epoch 444/500\n",
            "26/26 [==============================] - 0s 490us/sample - loss: 0.7183 - acc: 0.7500\n",
            "Epoch 445/500\n",
            "26/26 [==============================] - 0s 591us/sample - loss: 0.6623 - acc: 0.8750\n",
            "Epoch 446/500\n",
            "26/26 [==============================] - 0s 556us/sample - loss: 0.7497 - acc: 0.8750\n",
            "Epoch 447/500\n",
            "26/26 [==============================] - 0s 507us/sample - loss: 0.6230 - acc: 0.9167\n",
            "Epoch 448/500\n",
            "26/26 [==============================] - 0s 544us/sample - loss: 0.6292 - acc: 0.8750\n",
            "Epoch 449/500\n",
            "26/26 [==============================] - 0s 472us/sample - loss: 0.5790 - acc: 0.9167\n",
            "Epoch 450/500\n",
            "26/26 [==============================] - 0s 501us/sample - loss: 0.6372 - acc: 0.8333\n",
            "Epoch 451/500\n",
            "26/26 [==============================] - 0s 504us/sample - loss: 0.6106 - acc: 0.9167\n",
            "Epoch 452/500\n",
            "26/26 [==============================] - 0s 526us/sample - loss: 0.7018 - acc: 0.7917\n",
            "Epoch 453/500\n",
            "26/26 [==============================] - 0s 436us/sample - loss: 0.6088 - acc: 0.9167\n",
            "Epoch 454/500\n",
            "26/26 [==============================] - 0s 461us/sample - loss: 0.7220 - acc: 0.8333\n",
            "Epoch 455/500\n",
            "26/26 [==============================] - 0s 495us/sample - loss: 0.6475 - acc: 0.7917\n",
            "Epoch 456/500\n",
            "26/26 [==============================] - 0s 485us/sample - loss: 0.6447 - acc: 0.9167\n",
            "Epoch 457/500\n",
            "26/26 [==============================] - 0s 419us/sample - loss: 0.6215 - acc: 0.8750\n",
            "Epoch 458/500\n",
            "26/26 [==============================] - 0s 431us/sample - loss: 0.6939 - acc: 0.8750\n",
            "Epoch 459/500\n",
            "26/26 [==============================] - 0s 536us/sample - loss: 0.6669 - acc: 0.8333\n",
            "Epoch 460/500\n",
            "26/26 [==============================] - 0s 468us/sample - loss: 0.5979 - acc: 0.8750\n",
            "Epoch 461/500\n",
            "26/26 [==============================] - 0s 482us/sample - loss: 0.6285 - acc: 0.8750\n",
            "Epoch 462/500\n",
            "26/26 [==============================] - 0s 500us/sample - loss: 0.5532 - acc: 0.9167\n",
            "Epoch 463/500\n",
            "26/26 [==============================] - 0s 486us/sample - loss: 0.6920 - acc: 0.7500\n",
            "Epoch 464/500\n",
            "26/26 [==============================] - 0s 507us/sample - loss: 0.5408 - acc: 0.9167\n",
            "Epoch 465/500\n",
            "26/26 [==============================] - 0s 447us/sample - loss: 0.6290 - acc: 0.8750\n",
            "Epoch 466/500\n",
            "26/26 [==============================] - 0s 421us/sample - loss: 0.5459 - acc: 0.9167\n",
            "Epoch 467/500\n",
            "26/26 [==============================] - 0s 472us/sample - loss: 0.5847 - acc: 1.0000\n",
            "Epoch 468/500\n",
            "26/26 [==============================] - 0s 414us/sample - loss: 0.6659 - acc: 0.8333\n",
            "Epoch 469/500\n",
            "26/26 [==============================] - 0s 442us/sample - loss: 0.6723 - acc: 0.7917\n",
            "Epoch 470/500\n",
            "26/26 [==============================] - 0s 514us/sample - loss: 0.6616 - acc: 0.7917\n",
            "Epoch 471/500\n",
            "26/26 [==============================] - 0s 477us/sample - loss: 0.5705 - acc: 0.8333\n",
            "Epoch 472/500\n",
            "26/26 [==============================] - 0s 466us/sample - loss: 0.5998 - acc: 0.8750\n",
            "Epoch 473/500\n",
            "26/26 [==============================] - 0s 501us/sample - loss: 0.5483 - acc: 0.9167\n",
            "Epoch 474/500\n",
            "26/26 [==============================] - 0s 465us/sample - loss: 0.5559 - acc: 0.9583\n",
            "Epoch 475/500\n",
            "26/26 [==============================] - 0s 503us/sample - loss: 0.5731 - acc: 0.8333\n",
            "Epoch 476/500\n",
            "26/26 [==============================] - 0s 462us/sample - loss: 0.5367 - acc: 0.9583\n",
            "Epoch 477/500\n",
            "26/26 [==============================] - 0s 456us/sample - loss: 0.5776 - acc: 0.8750\n",
            "Epoch 478/500\n",
            "26/26 [==============================] - 0s 520us/sample - loss: 0.5041 - acc: 0.9167\n",
            "Epoch 479/500\n",
            "26/26 [==============================] - 0s 598us/sample - loss: 0.5053 - acc: 0.9583\n",
            "Epoch 480/500\n",
            "26/26 [==============================] - 0s 525us/sample - loss: 0.5234 - acc: 0.9583\n",
            "Epoch 481/500\n",
            "26/26 [==============================] - 0s 450us/sample - loss: 0.5317 - acc: 0.9167\n",
            "Epoch 482/500\n",
            "26/26 [==============================] - 0s 431us/sample - loss: 0.4739 - acc: 0.9583\n",
            "Epoch 483/500\n",
            "26/26 [==============================] - 0s 443us/sample - loss: 0.4805 - acc: 0.9167\n",
            "Epoch 484/500\n",
            "26/26 [==============================] - 0s 476us/sample - loss: 0.5273 - acc: 0.9167\n",
            "Epoch 485/500\n",
            "26/26 [==============================] - 0s 440us/sample - loss: 0.6039 - acc: 0.8750\n",
            "Epoch 486/500\n",
            "26/26 [==============================] - 0s 610us/sample - loss: 0.5894 - acc: 0.7917\n",
            "Epoch 487/500\n",
            "26/26 [==============================] - 0s 638us/sample - loss: 0.5348 - acc: 0.9167\n",
            "Epoch 488/500\n",
            "26/26 [==============================] - 0s 450us/sample - loss: 0.5117 - acc: 0.9583\n",
            "Epoch 489/500\n",
            "26/26 [==============================] - 0s 537us/sample - loss: 0.4791 - acc: 0.9583\n",
            "Epoch 490/500\n",
            "26/26 [==============================] - 0s 505us/sample - loss: 0.4571 - acc: 0.9167\n",
            "Epoch 491/500\n",
            "26/26 [==============================] - 0s 746us/sample - loss: 0.5856 - acc: 0.8750\n",
            "Epoch 492/500\n",
            "26/26 [==============================] - 0s 674us/sample - loss: 0.5215 - acc: 0.8333\n",
            "Epoch 493/500\n",
            "26/26 [==============================] - 0s 560us/sample - loss: 0.5200 - acc: 0.8750\n",
            "Epoch 494/500\n",
            "26/26 [==============================] - 0s 444us/sample - loss: 0.5039 - acc: 0.9167\n",
            "Epoch 495/500\n",
            "26/26 [==============================] - 0s 592us/sample - loss: 0.5429 - acc: 0.9167\n",
            "Epoch 496/500\n",
            "26/26 [==============================] - 0s 614us/sample - loss: 0.4969 - acc: 0.9167\n",
            "Epoch 497/500\n",
            "26/26 [==============================] - 0s 462us/sample - loss: 0.5603 - acc: 0.8333\n",
            "Epoch 498/500\n",
            "26/26 [==============================] - 0s 464us/sample - loss: 0.4769 - acc: 0.8750\n",
            "Epoch 499/500\n",
            "26/26 [==============================] - 0s 547us/sample - loss: 0.5936 - acc: 0.9167\n",
            "Epoch 500/500\n",
            "26/26 [==============================] - 0s 478us/sample - loss: 0.4834 - acc: 0.8750\n"
          ],
          "name": "stdout"
        },
        {
          "output_type": "execute_result",
          "data": {
            "text/plain": [
              "<tensorflow.python.keras.callbacks.History at 0x7fa3d1dfd4a8>"
            ]
          },
          "metadata": {
            "tags": []
          },
          "execution_count": 23
        }
      ]
    },
    {
      "cell_type": "code",
      "metadata": {
        "id": "YzZe48vENjUN",
        "colab_type": "code",
        "outputId": "8073a9e8-fcc4-4e80-8cf4-d0d2b093fcc6",
        "colab": {
          "base_uri": "https://localhost:8080/",
          "height": 378
        }
      },
      "source": [
        "# Create the plot\n",
        "plt.plot(tpu_model.history.history['acc'], 'r', tpu_model.history.history['loss'], 'b')\n",
        "plt.xlabel('Epochs')\n",
        "plt.ylabel('Validation score')\n",
        "plt.legend()\n",
        "plt.show()"
      ],
      "execution_count": 0,
      "outputs": [
        {
          "output_type": "stream",
          "text": [
            "No handles with labels found to put in legend.\n"
          ],
          "name": "stderr"
        },
        {
          "output_type": "display_data",
          "data": {
            "image/png": "[encoded data removed]",
            "text/plain": [
              "<Figure size 576x396 with 1 Axes>"
            ]
          },
          "metadata": {
            "tags": []
          }
        }
      ]
    },
    {
      "cell_type": "code",
      "metadata": {
        "id": "ueawbr1eGsVL",
        "colab_type": "code",
        "outputId": "97b02673-233b-44f9-e73d-66191474c898",
        "colab": {
          "base_uri": "https://localhost:8080/",
          "height": 170
        }
      },
      "source": [
        "cpu_model = tpu_model.sync_to_cpu()"
      ],
      "execution_count": 0,
      "outputs": [
        {
          "output_type": "stream",
          "text": [
            "INFO:tensorflow:Copying TPU weights to the CPU\n",
            "INFO:tensorflow:TPU -> CPU lr: 0.0010000000474974513\n",
            "INFO:tensorflow:TPU -> CPU beta_1: 0.8999999761581421\n",
            "INFO:tensorflow:TPU -> CPU beta_2: 0.9990000128746033\n",
            "INFO:tensorflow:TPU -> CPU decay: 0.0\n",
            "INFO:tensorflow:TPU -> CPU epsilon: 1e-07\n",
            "WARNING:tensorflow:Cannot update non-variable config: epsilon\n",
            "INFO:tensorflow:TPU -> CPU amsgrad: False\n",
            "WARNING:tensorflow:Cannot update non-variable config: amsgrad\n"
          ],
          "name": "stdout"
        }
      ]
    },
    {
      "cell_type": "code",
      "metadata": {
        "id": "I4XK5eh-VSb4",
        "colab_type": "code",
        "colab": {}
      },
      "source": [
        "cpu_model.save_weights('Deep_Writing_with_sentence-word_prediction-tpu.h5')"
      ],
      "execution_count": 0,
      "outputs": []
    },
    {
      "cell_type": "code",
      "metadata": {
        "id": "6oml2ac7Vjds",
        "colab_type": "code",
        "colab": {}
      },
      "source": [
        "cpu_model.load_weights('Deep_Writing_with_sentence-word_prediction-tpu.h5')"
      ],
      "execution_count": 0,
      "outputs": []
    },
    {
      "cell_type": "code",
      "metadata": {
        "id": "npQJ92OeXPp-",
        "colab_type": "code",
        "outputId": "57a22a8b-87ff-41cd-cc08-8ba0a136f852",
        "colab": {
          "base_uri": "https://localhost:8080/",
          "height": 119
        }
      },
      "source": [
        "X[9]"
      ],
      "execution_count": 0,
      "outputs": [
        {
          "output_type": "execute_result",
          "data": {
            "text/plain": [
              "array([ 0.        ,  0.2       ,  0.28867513,  0.36115756,  0.42640143,\n",
              "        0.48795004,  0.54772256,  0.60697698,  0.66666667,  0.72760688,\n",
              "       -1.26491106, -1.16774842, -1.08012345, -1.        , -0.9258201 ,\n",
              "       -0.85634884, -0.79056942, -0.72760688, -0.66666667, -0.60697698,\n",
              "       -0.54772256, -0.48795004, -0.42640143, -0.36115756, -0.28867513,\n",
              "       -0.2       ])"
            ]
          },
          "metadata": {
            "tags": []
          },
          "execution_count": 28
        }
      ]
    },
    {
      "cell_type": "code",
      "metadata": {
        "id": "-2FfpFmij3oC",
        "colab_type": "code",
        "outputId": "30f33393-024c-4dbb-adc2-2c0c6d020e12",
        "colab": {
          "base_uri": "https://localhost:8080/",
          "height": 34
        }
      },
      "source": [
        "X_lstm[0:10].shape"
      ],
      "execution_count": 0,
      "outputs": [
        {
          "output_type": "execute_result",
          "data": {
            "text/plain": [
              "(10, 26, 1)"
            ]
          },
          "metadata": {
            "tags": []
          },
          "execution_count": 29
        }
      ]
    },
    {
      "cell_type": "code",
      "metadata": {
        "id": "CIE3gxpeGtLr",
        "colab_type": "code",
        "outputId": "38798967-9ac7-416f-a5c3-9aff1f4937b7",
        "colab": {
          "base_uri": "https://localhost:8080/",
          "height": 51
        }
      },
      "source": [
        "pred = cpu_model.predict(X_lstm[0:])\n",
        "print(pred.shape)\n",
        "line = []\n",
        "for i in range(len(pred)):\n",
        "  line.append(tokenizer.index_word[np.argmax(pred[i])])\n",
        "  \n",
        "' '.join(line)"
      ],
      "execution_count": 0,
      "outputs": [
        {
          "output_type": "stream",
          "text": [
            "(26, 24)\n"
          ],
          "name": "stdout"
        },
        {
          "output_type": "execute_result",
          "data": {
            "text/plain": [
              "'that of any dont of my adventures with mr sherlock holmes opened quite so or or so dramatically as that which i associate with the thre'"
            ]
          },
          "metadata": {
            "tags": []
          },
          "execution_count": 103
        }
      ]
    }
  ]
}